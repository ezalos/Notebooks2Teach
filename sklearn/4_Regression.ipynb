{
 "cells": [
  {
   "cell_type": "markdown",
   "id": "bb40ab7f",
   "metadata": {},
   "source": [
    "# Data load"
   ]
  },
  {
   "cell_type": "code",
   "execution_count": 8,
   "id": "fbf0dbbc",
   "metadata": {
    "ExecuteTime": {
     "end_time": "2021-05-18T14:55:45.382293Z",
     "start_time": "2021-05-18T14:55:45.369241Z"
    }
   },
   "outputs": [],
   "source": [
    "import sklearn\n",
    "from sklearn.datasets import load_diabetes\n",
    "\n",
    "diabetes = load_diabetes()\n",
    "X = diabetes['data']\n",
    "y = diabetes['target']"
   ]
  },
  {
   "cell_type": "code",
   "execution_count": 9,
   "id": "edf74f55",
   "metadata": {
    "ExecuteTime": {
     "end_time": "2021-05-18T14:55:45.386539Z",
     "start_time": "2021-05-18T14:55:45.383525Z"
    }
   },
   "outputs": [
    {
     "data": {
      "text/plain": [
       "['age', 'sex', 'bmi', 'bp', 's1', 's2', 's3', 's4', 's5', 's6']"
      ]
     },
     "execution_count": 9,
     "metadata": {},
     "output_type": "execute_result"
    }
   ],
   "source": [
    "diabetes.feature_names"
   ]
  },
  {
   "cell_type": "markdown",
   "id": "1e540cf9",
   "metadata": {},
   "source": [
    " :Attributes:\n",
    " \n",
    "   - :Age:\n",
    "   - :Sex:\n",
    "   - :Body mass index:\n",
    "   - :Average blood pressure:\n",
    "   - :S1:  (blood serum measurements)\n",
    "   - :S2:\n",
    "   - :S3:\n",
    "   - :S4:\n",
    "   - :S5:\n",
    "   - :S6:"
   ]
  },
  {
   "cell_type": "code",
   "execution_count": 10,
   "id": "757846f3",
   "metadata": {
    "ExecuteTime": {
     "end_time": "2021-05-18T14:55:45.396406Z",
     "start_time": "2021-05-18T14:55:45.387924Z"
    }
   },
   "outputs": [
    {
     "name": "stdout",
     "output_type": "stream",
     "text": [
      "[[ 0.03807591  0.05068012  0.06169621 ... -0.00259226  0.01990842\n",
      "  -0.01764613]\n",
      " [-0.00188202 -0.04464164 -0.05147406 ... -0.03949338 -0.06832974\n",
      "  -0.09220405]\n",
      " [ 0.08529891  0.05068012  0.04445121 ... -0.00259226  0.00286377\n",
      "  -0.02593034]\n",
      " ...\n",
      " [ 0.04170844  0.05068012 -0.01590626 ... -0.01107952 -0.04687948\n",
      "   0.01549073]\n",
      " [-0.04547248 -0.04464164  0.03906215 ...  0.02655962  0.04452837\n",
      "  -0.02593034]\n",
      " [-0.04547248 -0.04464164 -0.0730303  ... -0.03949338 -0.00421986\n",
      "   0.00306441]]\n"
     ]
    },
    {
     "data": {
      "text/plain": [
       "(442, 10)"
      ]
     },
     "execution_count": 10,
     "metadata": {},
     "output_type": "execute_result"
    }
   ],
   "source": [
    "print(X)\n",
    "X.shape"
   ]
  },
  {
   "cell_type": "code",
   "execution_count": 11,
   "id": "0d96df29",
   "metadata": {
    "ExecuteTime": {
     "end_time": "2021-05-18T14:55:45.408838Z",
     "start_time": "2021-05-18T14:55:45.397732Z"
    }
   },
   "outputs": [
    {
     "name": "stdout",
     "output_type": "stream",
     "text": [
      "[151.  75. 141. 206. 135.  97. 138.  63. 110. 310. 101.  69. 179. 185.\n",
      " 118. 171. 166. 144.  97. 168.  68.  49.  68. 245. 184. 202. 137.  85.\n",
      " 131. 283. 129.  59. 341.  87.  65. 102. 265. 276. 252.  90. 100.  55.\n",
      "  61.  92. 259.  53. 190. 142.  75. 142. 155. 225.  59. 104. 182. 128.\n",
      "  52.  37. 170. 170.  61. 144.  52. 128.  71. 163. 150.  97. 160. 178.\n",
      "  48. 270. 202. 111.  85.  42. 170. 200. 252. 113. 143.  51.  52. 210.\n",
      "  65. 141.  55. 134.  42. 111.  98. 164.  48.  96.  90. 162. 150. 279.\n",
      "  92.  83. 128. 102. 302. 198.  95.  53. 134. 144. 232.  81. 104.  59.\n",
      " 246. 297. 258. 229. 275. 281. 179. 200. 200. 173. 180.  84. 121. 161.\n",
      "  99. 109. 115. 268. 274. 158. 107.  83. 103. 272.  85. 280. 336. 281.\n",
      " 118. 317. 235.  60. 174. 259. 178. 128.  96. 126. 288.  88. 292.  71.\n",
      " 197. 186.  25.  84.  96. 195.  53. 217. 172. 131. 214.  59.  70. 220.\n",
      " 268. 152.  47.  74. 295. 101. 151. 127. 237. 225.  81. 151. 107.  64.\n",
      " 138. 185. 265. 101. 137. 143. 141.  79. 292. 178.  91. 116.  86. 122.\n",
      "  72. 129. 142.  90. 158.  39. 196. 222. 277.  99. 196. 202. 155.  77.\n",
      " 191.  70.  73.  49.  65. 263. 248. 296. 214. 185.  78.  93. 252. 150.\n",
      "  77. 208.  77. 108. 160.  53. 220. 154. 259.  90. 246. 124.  67.  72.\n",
      " 257. 262. 275. 177.  71.  47. 187. 125.  78.  51. 258. 215. 303. 243.\n",
      "  91. 150. 310. 153. 346.  63.  89.  50.  39. 103. 308. 116. 145.  74.\n",
      "  45. 115. 264.  87. 202. 127. 182. 241.  66.  94. 283.  64. 102. 200.\n",
      " 265.  94. 230. 181. 156. 233.  60. 219.  80.  68. 332. 248.  84. 200.\n",
      "  55.  85.  89.  31. 129.  83. 275.  65. 198. 236. 253. 124.  44. 172.\n",
      " 114. 142. 109. 180. 144. 163. 147.  97. 220. 190. 109. 191. 122. 230.\n",
      " 242. 248. 249. 192. 131. 237.  78. 135. 244. 199. 270. 164.  72.  96.\n",
      " 306.  91. 214.  95. 216. 263. 178. 113. 200. 139. 139.  88. 148.  88.\n",
      " 243.  71.  77. 109. 272.  60.  54. 221.  90. 311. 281. 182. 321.  58.\n",
      " 262. 206. 233. 242. 123. 167.  63. 197.  71. 168. 140. 217. 121. 235.\n",
      " 245.  40.  52. 104. 132.  88.  69. 219.  72. 201. 110.  51. 277.  63.\n",
      " 118.  69. 273. 258.  43. 198. 242. 232. 175.  93. 168. 275. 293. 281.\n",
      "  72. 140. 189. 181. 209. 136. 261. 113. 131. 174. 257.  55.  84.  42.\n",
      " 146. 212. 233.  91. 111. 152. 120.  67. 310.  94. 183.  66. 173.  72.\n",
      "  49.  64.  48. 178. 104. 132. 220.  57.]\n"
     ]
    },
    {
     "data": {
      "text/plain": [
       "(442,)"
      ]
     },
     "execution_count": 11,
     "metadata": {},
     "output_type": "execute_result"
    }
   ],
   "source": [
    "print(y)\n",
    "y.shape"
   ]
  },
  {
   "cell_type": "code",
   "execution_count": 12,
   "id": "9d058176",
   "metadata": {
    "ExecuteTime": {
     "end_time": "2021-05-18T14:55:45.632971Z",
     "start_time": "2021-05-18T14:55:45.409851Z"
    }
   },
   "outputs": [],
   "source": [
    "import matplotlib.pylab as plt\n",
    "import numpy as np\n",
    "%matplotlib inline\n",
    "from sklearn.linear_model import LinearRegression\n",
    "from sklearn import datasets"
   ]
  },
  {
   "cell_type": "markdown",
   "id": "45ab95cd",
   "metadata": {},
   "source": [
    "# Linear Regression Model"
   ]
  },
  {
   "cell_type": "markdown",
   "id": "b441a198",
   "metadata": {},
   "source": [
    "Linear Regression assumes the following model:\n",
    "\n",
    "y=X Theta+c+ϵ \n",
    "\n",
    "X data\n",
    "\n",
    "Theta  coefficients\n",
    "\n",
    "c intercept\n",
    "\n",
    "ϵ  error, cannot explained by model\n",
    "\n",
    "y target\n",
    "\n"
   ]
  },
  {
   "cell_type": "markdown",
   "id": "21078dce",
   "metadata": {
    "ExecuteTime": {
     "end_time": "2021-05-16T22:22:01.581290Z",
     "start_time": "2021-05-16T22:22:01.579465Z"
    }
   },
   "source": [
    "## Test and train set"
   ]
  },
  {
   "cell_type": "code",
   "execution_count": 13,
   "id": "53a38721",
   "metadata": {
    "ExecuteTime": {
     "end_time": "2021-05-18T14:55:45.636612Z",
     "start_time": "2021-05-18T14:55:45.634001Z"
    }
   },
   "outputs": [],
   "source": [
    "# Sperate train and test data\n",
    "from sklearn.model_selection import train_test_split\n",
    "X_train, X_test, y_train, y_test = train_test_split(diabetes.data, diabetes.target, test_size=0.2, random_state=42)"
   ]
  },
  {
   "cell_type": "code",
   "execution_count": 14,
   "id": "e4e15d04",
   "metadata": {
    "ExecuteTime": {
     "end_time": "2021-05-18T14:55:45.646271Z",
     "start_time": "2021-05-18T14:55:45.637441Z"
    }
   },
   "outputs": [],
   "source": [
    "# There are three steps to model something with sklearn\n",
    "# 1. Set up the model\n",
    "model = LinearRegression()"
   ]
  },
  {
   "cell_type": "code",
   "execution_count": 15,
   "id": "c6abe64f",
   "metadata": {
    "ExecuteTime": {
     "end_time": "2021-05-18T14:55:45.665761Z",
     "start_time": "2021-05-18T14:55:45.647824Z"
    }
   },
   "outputs": [
    {
     "data": {
      "text/plain": [
       "LinearRegression()"
      ]
     },
     "execution_count": 15,
     "metadata": {},
     "output_type": "execute_result"
    }
   ],
   "source": [
    "# 2. Use fit\n",
    "model.fit(X_train, y_train)"
   ]
  },
  {
   "cell_type": "code",
   "execution_count": 16,
   "id": "90ad6963",
   "metadata": {
    "ExecuteTime": {
     "end_time": "2021-05-18T14:55:45.673893Z",
     "start_time": "2021-05-18T14:55:45.667103Z"
    }
   },
   "outputs": [
    {
     "data": {
      "text/plain": [
       "0.452606602161738"
      ]
     },
     "execution_count": 16,
     "metadata": {},
     "output_type": "execute_result"
    }
   ],
   "source": [
    "# 3. Check the score\n",
    "model.score(X_test, y_test)"
   ]
  },
  {
   "cell_type": "markdown",
   "id": "b29631f1",
   "metadata": {
    "ExecuteTime": {
     "end_time": "2021-05-16T22:24:15.927976Z",
     "start_time": "2021-05-16T22:24:15.926119Z"
    }
   },
   "source": [
    "## Hidden variables"
   ]
  },
  {
   "cell_type": "code",
   "execution_count": 17,
   "id": "0c5d386d",
   "metadata": {
    "ExecuteTime": {
     "end_time": "2021-05-18T14:55:45.683599Z",
     "start_time": "2021-05-18T14:55:45.674914Z"
    }
   },
   "outputs": [
    {
     "data": {
      "text/plain": [
       "array([  37.90031426, -241.96624835,  542.42575342,  347.70830529,\n",
       "       -931.46126093,  518.04405547,  163.40353476,  275.31003837,\n",
       "        736.18909839,   48.67112488])"
      ]
     },
     "execution_count": 17,
     "metadata": {},
     "output_type": "execute_result"
    }
   ],
   "source": [
    "model.coef_ # Get the coefficients, beta"
   ]
  },
  {
   "cell_type": "code",
   "execution_count": 18,
   "id": "cad677b1",
   "metadata": {
    "ExecuteTime": {
     "end_time": "2021-05-18T14:55:45.693814Z",
     "start_time": "2021-05-18T14:55:45.685011Z"
    }
   },
   "outputs": [
    {
     "data": {
      "text/plain": [
       "151.3456553477407"
      ]
     },
     "execution_count": 18,
     "metadata": {},
     "output_type": "execute_result"
    }
   ],
   "source": [
    "model.intercept_ # Get the intercept, c"
   ]
  },
  {
   "cell_type": "markdown",
   "id": "a3aab078",
   "metadata": {
    "ExecuteTime": {
     "end_time": "2021-05-16T22:25:26.961520Z",
     "start_time": "2021-05-16T22:25:26.959477Z"
    }
   },
   "source": [
    "## Make predictions"
   ]
  },
  {
   "cell_type": "code",
   "execution_count": 19,
   "id": "f6edee87",
   "metadata": {
    "ExecuteTime": {
     "end_time": "2021-05-18T14:55:45.704840Z",
     "start_time": "2021-05-18T14:55:45.694657Z"
    }
   },
   "outputs": [
    {
     "data": {
      "text/plain": [
       "array([139.5483133 , 179.52030578, 134.04133298, 291.41193598,\n",
       "       123.78723656,  92.17357677, 258.23409704, 181.33895238,\n",
       "        90.22217862, 108.63143298,  94.13938654, 168.43379636,\n",
       "        53.50669663, 206.63040068, 100.13238561, 130.66881649,\n",
       "       219.53270758, 250.78291772, 196.36682356, 218.57497401,\n",
       "       207.35002447,  88.48361667,  70.43428801, 188.95725301,\n",
       "       154.88720039, 159.35957695, 188.31587948, 180.38835506,\n",
       "        47.98988446, 108.97514644, 174.78080029,  86.36598906,\n",
       "       132.95890535, 184.5410226 , 173.83298051, 190.35863287,\n",
       "       124.41740796, 119.65426903, 147.95402494,  59.05311211,\n",
       "        71.62636914, 107.68722902, 165.45544477, 155.00784964,\n",
       "       171.04558668,  61.45763075,  71.66975626, 114.96330486,\n",
       "        51.57808027, 167.57781958, 152.52505798,  62.95827693,\n",
       "       103.49862017, 109.20495627, 175.63844013, 154.60247734,\n",
       "        94.41476124, 210.74244148, 120.25601864,  77.61590087,\n",
       "       187.93503183, 206.49543321, 140.63018684, 105.59463059,\n",
       "       130.704246  , 202.18650868, 171.1330116 , 164.91246096,\n",
       "       124.72637597, 144.81210187, 181.99631481, 199.41234515,\n",
       "       234.21402489, 145.96053305,  79.86349114, 157.36828831,\n",
       "       192.74737754, 208.8980067 , 158.58505486, 206.0226849 ,\n",
       "       107.47978402, 140.93428553,  54.81856678,  55.92807758,\n",
       "       115.00974554,  78.95886675,  81.55731377,  54.3774778 ,\n",
       "       166.25477778])"
      ]
     },
     "execution_count": 19,
     "metadata": {},
     "output_type": "execute_result"
    }
   ],
   "source": [
    "model.predict(X_test) # Predict unkown data"
   ]
  },
  {
   "cell_type": "markdown",
   "id": "81be16e6",
   "metadata": {},
   "source": [
    "# Plotting results"
   ]
  },
  {
   "cell_type": "code",
   "execution_count": 20,
   "id": "08767fe8",
   "metadata": {
    "ExecuteTime": {
     "end_time": "2021-05-18T14:55:45.820011Z",
     "start_time": "2021-05-18T14:55:45.705944Z"
    }
   },
   "outputs": [
    {
     "data": {
      "image/png": "[encoded data removed]",
      "text/plain": [
       "<Figure size 432x288 with 1 Axes>"
      ]
     },
     "metadata": {
      "needs_background": "light"
     },
     "output_type": "display_data"
    }
   ],
   "source": [
    "# plot prediction and actual data\n",
    "y_pred = model.predict(X_test) \n",
    "plt.plot(y_test, y_pred, '.')\n",
    "\n",
    "# plot a line, a perfit predict would all fall on this line\n",
    "x = np.linspace(0, 330, 100)\n",
    "y = x\n",
    "plt.plot(x, y)\n",
    "plt.show()"
   ]
  }
 ],
 "metadata": {
  "kernelspec": {
   "display_name": "Python 3",
   "language": "python",
   "name": "python3"
  },
  "language_info": {
   "codemirror_mode": {
    "name": "ipython",
    "version": 3
   },
   "file_extension": ".py",
   "mimetype": "text/x-python",
   "name": "python",
   "nbconvert_exporter": "python",
   "pygments_lexer": "ipython3",
   "version": "3.8.5"
  },
  "toc": {
   "base_numbering": 1,
   "nav_menu": {},
   "number_sections": true,
   "sideBar": true,
   "skip_h1_title": false,
   "title_cell": "Table of Contents",
   "title_sidebar": "Contents",
   "toc_cell": false,
   "toc_position": {},
   "toc_section_display": true,
   "toc_window_display": false
  },
  "varInspector": {
   "cols": {
    "lenName": 16,
    "lenType": 16,
    "lenVar": 40
   },
   "kernels_config": {
    "python": {
     "delete_cmd_postfix": "",
     "delete_cmd_prefix": "del ",
     "library": "var_list.py",
     "varRefreshCmd": "print(var_dic_list())"
    },
    "r": {
     "delete_cmd_postfix": ") ",
     "delete_cmd_prefix": "rm(",
     "library": "var_list.r",
     "varRefreshCmd": "cat(var_dic_list()) "
    }
   },
   "types_to_exclude": [
    "module",
    "function",
    "builtin_function_or_method",
    "instance",
    "_Feature"
   ],
   "window_display": false
  }
 },
 "nbformat": 4,
 "nbformat_minor": 5
}
