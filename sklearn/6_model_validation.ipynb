{
 "cells": [
  {
   "cell_type": "markdown",
   "metadata": {},
   "source": [
    "# Model Validation"
   ]
  },
  {
   "cell_type": "markdown",
   "metadata": {},
   "source": [
    "## Imports"
   ]
  },
  {
   "cell_type": "markdown",
   "metadata": {},
   "source": [
    " Data set from UCI Machine Learning Repository.\n",
    " \n",
    " Data set is from the Blood Transfusion Service Center in Hsin-Chu City in Taiwan.\n",
    " \n",
    " This is a classification problem. The idea behind this extends to regression problems as well."
   ]
  },
  {
   "cell_type": "markdown",
   "metadata": {
    "ExecuteTime": {
     "end_time": "2021-05-18T20:00:46.520841Z",
     "start_time": "2021-05-18T20:00:46.518520Z"
    }
   },
   "source": [
    "## Data cleansing and wrangling"
   ]
  },
  {
   "cell_type": "code",
   "execution_count": 15,
   "metadata": {
    "ExecuteTime": {
     "end_time": "2021-05-19T09:51:32.567705Z",
     "start_time": "2021-05-19T09:51:31.083169Z"
    }
   },
   "outputs": [
    {
     "data": {
      "text/html": [
       "<div>\n",
       "<style scoped>\n",
       "    .dataframe tbody tr th:only-of-type {\n",
       "        vertical-align: middle;\n",
       "    }\n",
       "\n",
       "    .dataframe tbody tr th {\n",
       "        vertical-align: top;\n",
       "    }\n",
       "\n",
       "    .dataframe thead th {\n",
       "        text-align: right;\n",
       "    }\n",
       "</style>\n",
       "<table border=\"1\" class=\"dataframe\">\n",
       "  <thead>\n",
       "    <tr style=\"text-align: right;\">\n",
       "      <th></th>\n",
       "      <th>Recency (months)</th>\n",
       "      <th>Frequency (times)</th>\n",
       "      <th>Monetary (c.c. blood)</th>\n",
       "      <th>Time (months)</th>\n",
       "      <th>whether he/she donated blood in March 2007</th>\n",
       "    </tr>\n",
       "  </thead>\n",
       "  <tbody>\n",
       "    <tr>\n",
       "      <th>0</th>\n",
       "      <td>2</td>\n",
       "      <td>50</td>\n",
       "      <td>12500</td>\n",
       "      <td>98</td>\n",
       "      <td>1</td>\n",
       "    </tr>\n",
       "    <tr>\n",
       "      <th>1</th>\n",
       "      <td>0</td>\n",
       "      <td>13</td>\n",
       "      <td>3250</td>\n",
       "      <td>28</td>\n",
       "      <td>1</td>\n",
       "    </tr>\n",
       "    <tr>\n",
       "      <th>2</th>\n",
       "      <td>1</td>\n",
       "      <td>16</td>\n",
       "      <td>4000</td>\n",
       "      <td>35</td>\n",
       "      <td>1</td>\n",
       "    </tr>\n",
       "    <tr>\n",
       "      <th>3</th>\n",
       "      <td>2</td>\n",
       "      <td>20</td>\n",
       "      <td>5000</td>\n",
       "      <td>45</td>\n",
       "      <td>1</td>\n",
       "    </tr>\n",
       "    <tr>\n",
       "      <th>4</th>\n",
       "      <td>1</td>\n",
       "      <td>24</td>\n",
       "      <td>6000</td>\n",
       "      <td>77</td>\n",
       "      <td>0</td>\n",
       "    </tr>\n",
       "  </tbody>\n",
       "</table>\n",
       "</div>"
      ],
      "text/plain": [
       "   Recency (months)  Frequency (times)  Monetary (c.c. blood)  Time (months)  \\\n",
       "0                 2                 50                  12500             98   \n",
       "1                 0                 13                   3250             28   \n",
       "2                 1                 16                   4000             35   \n",
       "3                 2                 20                   5000             45   \n",
       "4                 1                 24                   6000             77   \n",
       "\n",
       "   whether he/she donated blood in March 2007  \n",
       "0                                           1  \n",
       "1                                           1  \n",
       "2                                           1  \n",
       "3                                           1  \n",
       "4                                           0  "
      ]
     },
     "execution_count": 15,
     "metadata": {},
     "output_type": "execute_result"
    }
   ],
   "source": [
    "# Data cleansing and wrangling.\n",
    "import pandas as pd\n",
    "\n",
    "df = pd.read_csv('https://archive.ics.uci.edu/ml/machine-learning-databases/blood-transfusion/transfusion.data')\n",
    "df.head()"
   ]
  },
  {
   "cell_type": "code",
   "execution_count": 16,
   "metadata": {
    "ExecuteTime": {
     "end_time": "2021-05-19T09:51:32.574953Z",
     "start_time": "2021-05-19T09:51:32.569100Z"
    }
   },
   "outputs": [
    {
     "data": {
      "text/html": [
       "<div>\n",
       "<style scoped>\n",
       "    .dataframe tbody tr th:only-of-type {\n",
       "        vertical-align: middle;\n",
       "    }\n",
       "\n",
       "    .dataframe tbody tr th {\n",
       "        vertical-align: top;\n",
       "    }\n",
       "\n",
       "    .dataframe thead th {\n",
       "        text-align: right;\n",
       "    }\n",
       "</style>\n",
       "<table border=\"1\" class=\"dataframe\">\n",
       "  <thead>\n",
       "    <tr style=\"text-align: right;\">\n",
       "      <th></th>\n",
       "      <th>months_since_last_donation</th>\n",
       "      <th>number_of_donations</th>\n",
       "      <th>total_volume_donated</th>\n",
       "      <th>months_since_first_donation</th>\n",
       "      <th>made_donation_in_march_2007</th>\n",
       "    </tr>\n",
       "  </thead>\n",
       "  <tbody>\n",
       "    <tr>\n",
       "      <th>0</th>\n",
       "      <td>2</td>\n",
       "      <td>50</td>\n",
       "      <td>12500</td>\n",
       "      <td>98</td>\n",
       "      <td>1</td>\n",
       "    </tr>\n",
       "    <tr>\n",
       "      <th>1</th>\n",
       "      <td>0</td>\n",
       "      <td>13</td>\n",
       "      <td>3250</td>\n",
       "      <td>28</td>\n",
       "      <td>1</td>\n",
       "    </tr>\n",
       "    <tr>\n",
       "      <th>2</th>\n",
       "      <td>1</td>\n",
       "      <td>16</td>\n",
       "      <td>4000</td>\n",
       "      <td>35</td>\n",
       "      <td>1</td>\n",
       "    </tr>\n",
       "    <tr>\n",
       "      <th>3</th>\n",
       "      <td>2</td>\n",
       "      <td>20</td>\n",
       "      <td>5000</td>\n",
       "      <td>45</td>\n",
       "      <td>1</td>\n",
       "    </tr>\n",
       "    <tr>\n",
       "      <th>4</th>\n",
       "      <td>1</td>\n",
       "      <td>24</td>\n",
       "      <td>6000</td>\n",
       "      <td>77</td>\n",
       "      <td>0</td>\n",
       "    </tr>\n",
       "  </tbody>\n",
       "</table>\n",
       "</div>"
      ],
      "text/plain": [
       "   months_since_last_donation  number_of_donations  total_volume_donated  \\\n",
       "0                           2                   50                 12500   \n",
       "1                           0                   13                  3250   \n",
       "2                           1                   16                  4000   \n",
       "3                           2                   20                  5000   \n",
       "4                           1                   24                  6000   \n",
       "\n",
       "   months_since_first_donation  made_donation_in_march_2007  \n",
       "0                           98                            1  \n",
       "1                           28                            1  \n",
       "2                           35                            1  \n",
       "3                           45                            1  \n",
       "4                           77                            0  "
      ]
     },
     "execution_count": 16,
     "metadata": {},
     "output_type": "execute_result"
    }
   ],
   "source": [
    "df = df.rename(columns={\n",
    "    'Recency (months)': 'months_since_last_donation', \n",
    "    'Frequency (times)': 'number_of_donations', \n",
    "    'Monetary (c.c. blood)': 'total_volume_donated', \n",
    "    'Time (months)': 'months_since_first_donation', \n",
    "    'whether he/she donated blood in March 2007': 'made_donation_in_march_2007'\n",
    "})\n",
    "target_name = \"made_donation_in_march_2007\"\n",
    "df.head()"
   ]
  },
  {
   "cell_type": "code",
   "execution_count": 17,
   "metadata": {
    "ExecuteTime": {
     "end_time": "2021-05-19T09:51:32.584963Z",
     "start_time": "2021-05-19T09:51:32.576885Z"
    }
   },
   "outputs": [],
   "source": [
    "# df.to_csv(\"new_name_csv\")\n",
    "\n",
    "\n",
    "## AS INPUT\n",
    "# raw_csv.csv\n",
    "\n",
    "## After cleaning\n",
    "# clean_csv.csv\n",
    "\n",
    "## After Training\n",
    "# csv -> scores\n"
   ]
  },
  {
   "cell_type": "code",
   "execution_count": 18,
   "metadata": {
    "ExecuteTime": {
     "end_time": "2021-05-19T09:51:32.594893Z",
     "start_time": "2021-05-19T09:51:32.585946Z"
    }
   },
   "outputs": [
    {
     "data": {
      "text/plain": [
       "(748, 5)"
      ]
     },
     "execution_count": 18,
     "metadata": {},
     "output_type": "execute_result"
    }
   ],
   "source": [
    "df.shape"
   ]
  },
  {
   "cell_type": "markdown",
   "metadata": {},
   "source": [
    "## Split the data into training and test data sets."
   ]
  },
  {
   "cell_type": "code",
   "execution_count": 19,
   "metadata": {
    "ExecuteTime": {
     "end_time": "2021-05-19T09:51:32.606624Z",
     "start_time": "2021-05-19T09:51:32.596721Z"
    }
   },
   "outputs": [],
   "source": [
    "# Split the data into training and test data sets.\n",
    "\n",
    "# Seperating the independent and dependent features.\n",
    "X = df.drop(columns=[target_name])\n",
    "y = df[target_name]\n",
    "\n",
    "# Split data into train and test using k-fold cross-validation\n",
    "# with independent test data set.\n",
    "from sklearn.model_selection import train_test_split\n",
    "\n",
    "X_train, X_test, y_train, y_test = train_test_split(X, y, \n",
    "                                                    test_size=0.25,\n",
    "                                                    shuffle=True,\n",
    "                                                    random_state=42\n",
    "                                                   )"
   ]
  },
  {
   "cell_type": "markdown",
   "metadata": {},
   "source": [
    "## Define the metrics for which model is getting optimized."
   ]
  },
  {
   "cell_type": "markdown",
   "metadata": {
    "ExecuteTime": {
     "end_time": "2021-05-18T20:23:03.842521Z",
     "start_time": "2021-05-18T20:23:03.839359Z"
    }
   },
   "source": [
    " - Classification problem uses metrics like:\n",
    "    - ![Accuracy and Recall](https://miro.medium.com/max/1400/1*ReG9pKObnyDwdgdqFjt1Tg.png)\n",
    "    - precision:\n",
    "        - How often are we correct in our positive prediction?\n",
    "        - (TP) / (TP + FP)\n",
    "    - recall:\n",
    "        -  How often did we wrongly classify something as not true (= false)?\n",
    "        - (TP) / (TP + FN)\n",
    "    - accuracy:\n",
    "        - Accuracy is how well the model performs\n",
    "        - (TP + TN) / (TP + TN + FP + FN) \n",
    "    - f1_score:\n",
    "        - Utilize the precision and recall to create a test’s accuracy through the “harmonic mean”.\n",
    "        - It focuses on the on the left-bottom to right-top diagonal in the Confusion Matrix.\n",
    "        - 2 * ((Precision * Recall) / (Precision + Recall))\n",
    "        \n",
    "    - AUC-ROC\n",
    "        - Area Under Curve - Receiver Operator Characteristic\n",
    "        - ![AUC-ROC](https://miro.medium.com/max/722/1*pk05QGzoWhCgRiiFbz-oKQ.png)\n",
    "        - TPR (True Positive Rate) / Recall /Sensitivity\n",
    "            - ![AUC-ROC](https://miro.medium.com/max/710/1*HgxNKuUwXk9JHYBCt_KZNw.png)\n",
    "        - FPR\n",
    "            - ![AUC-ROC](https://miro.medium.com/max/490/1*3GhDfiuhvINF5-9eL8g6Pw.png)\n",
    "        - ![AUC-ROC](https://miro.medium.com/max/1056/1*Uu-t4pOotRQFoyrfqEvIEg.png)\n",
    "        - ![AUC-ROC](https://miro.medium.com/max/1014/1*yF8hvKR9eNfqqej2JnVKzg.png)\n",
    "        - ![AUC-ROC](https://miro.medium.com/max/860/1*iLW_BrJZRI0UZSflfMrmZQ.png)\n",
    "        - ![AUC-ROC](https://miro.medium.com/max/1112/1*aUZ7H-Lw74KSucoLlj1pgw.png)\n",
    "\n",
    " - Regression problem uses metrics like:\n",
    "    - mean square error\n",
    "        - $$ MSE = \\frac{1}{n}\\Sigma_{i=1}^{n}{\\Big(\\frac{\\hat{y_{i}} - y_{i}}{n}\\Big)^2} $$\n",
    "    - root mean absolute error\n",
    "        - $$  RMSE = \\sqrt{\\frac{1}{n}\\Sigma_{i=1}^{n}{\\Big(\\frac{\\hat{y_{i}} - y_{i}}{n}\\Big)^2}} $$\n",
    "        - ![RMSE](https://miro.medium.com/max/818/0*HF1h7speiHudyvj7.png)\n",
    "    - F-Test\n",
    "        - The F-Test is used to compare statistical models that were fitted to a dataset\n",
    "        - it allows us to identify the model that best fits the population\n",
    "        - ![F-Test](https://miro.medium.com/max/446/1*Neij87eIUNCbwXTAjJFneQ.png)\n",
    "            - Explained Variance:  ![EV](https://miro.medium.com/max/326/1*kWY-24CnVvpX6WP3NV23-w.png)\n",
    "            - UnExplained Variance:  ![uEV](https://miro.medium.com/max/414/1*xvN9bmMuHmeX0mWWHlL-Ow.png)\n",
    "    - R-Squared score\n",
    "        - R-Squared describes how well a model fits for a linear regression model.\n",
    "        - The higher R, the better the fit.\n",
    "        - ![Formula](https://miro.medium.com/max/788/1*GTGHrcbcSgT0bAGCywcbsw.png)\n",
    "        - ![Formula](https://miro.medium.com/max/1002/1*asxJLYjc-nlCeNuXOnPZSA.png)\n",
    "        - ![Visual](https://miro.medium.com/max/800/0*q_9SgzLvCy47B2sl.png)\n",
    "            - SStot: red\n",
    "            - SSres: blue"
   ]
  },
  {
   "cell_type": "markdown",
   "metadata": {},
   "source": [
    "## Get quick initial metrics estimate"
   ]
  },
  {
   "cell_type": "code",
   "execution_count": 20,
   "metadata": {
    "ExecuteTime": {
     "end_time": "2021-05-19T09:51:32.617742Z",
     "start_time": "2021-05-19T09:51:32.607561Z"
    }
   },
   "outputs": [
    {
     "name": "stdout",
     "output_type": "stream",
     "text": [
      "0    0.768271\n",
      "1    0.231729\n",
      "Name: made_donation_in_march_2007, dtype: float64\n"
     ]
    }
   ],
   "source": [
    "# Get quick initial metrics estimate.\n",
    "\n",
    "# Using simple pandas value counts method\n",
    "print(y_train.value_counts(normalize=True))"
   ]
  },
  {
   "cell_type": "code",
   "execution_count": 21,
   "metadata": {
    "ExecuteTime": {
     "end_time": "2021-05-19T09:51:32.632390Z",
     "start_time": "2021-05-19T09:51:32.618569Z"
    }
   },
   "outputs": [
    {
     "data": {
      "text/plain": [
       "0.768270944741533"
      ]
     },
     "execution_count": 21,
     "metadata": {},
     "output_type": "execute_result"
    }
   ],
   "source": [
    "# Using sklearn accuracy_score\n",
    "import numpy as np\n",
    "from sklearn.metrics import accuracy_score\n",
    "\n",
    "majority_class = y_train.mode()[0]\n",
    "prediction = np.full(shape=y_train.shape, \n",
    "                     fill_value=majority_class)\n",
    "\n",
    "accuracy_score(y_train, prediction)"
   ]
  },
  {
   "cell_type": "markdown",
   "metadata": {},
   "source": [
    "The baseline accuracy score is approximately 77%."
   ]
  },
  {
   "cell_type": "markdown",
   "metadata": {
    "ExecuteTime": {
     "end_time": "2021-05-18T21:22:26.918528Z",
     "start_time": "2021-05-18T21:22:26.916517Z"
    }
   },
   "source": [
    "## Data pre-processing"
   ]
  },
  {
   "cell_type": "code",
   "execution_count": 22,
   "metadata": {
    "ExecuteTime": {
     "end_time": "2021-05-19T09:51:32.642389Z",
     "start_time": "2021-05-19T09:51:32.634320Z"
    }
   },
   "outputs": [
    {
     "data": {
      "text/plain": [
       "[0.0, 0.03333333333333333, 1.0, 0.16666666666666666]"
      ]
     },
     "execution_count": 22,
     "metadata": {},
     "output_type": "execute_result"
    }
   ],
   "source": [
    "def min_max(array):\n",
    "    min_ = min(array)\n",
    "    max_ = max(array)\n",
    "    transformed_array = []\n",
    "    for x in array:\n",
    "        mnmx = (x - min_) / (max_ - min_)## Data pre-processing\n",
    "        transformed_array.append(mnmx)\n",
    "    return transformed_array\n",
    "\n",
    "def stdztion(array):\n",
    "    mean_ = sum(array) / len(array)\n",
    "#     std_ = std()\n",
    "    transformed_array = []\n",
    "    for x in array:\n",
    "        mnmx = (x - mean_) / (std)## Data pre-processing\n",
    "        transformed_array.append(mnmx)\n",
    "    return transformed_array\n",
    "    \n",
    "\n",
    "min_max([0, 10, 300,  50])"
   ]
  },
  {
   "cell_type": "code",
   "execution_count": 23,
   "metadata": {
    "ExecuteTime": {
     "end_time": "2021-05-19T09:51:32.652338Z",
     "start_time": "2021-05-19T09:51:32.643742Z"
    }
   },
   "outputs": [],
   "source": [
    "###    Data\n",
    "###    X   y       [0, 10, 300,  50]\n",
    "###    PreProcessing\n",
    "###    X_  y_      [0.0, 0.03333333333333333, 1.0, 0.16666666666666666]\n",
    "###    Model\n",
    "###    X_ y_ -> prediction_ \n",
    "###              -> prediction\n",
    "\n"
   ]
  },
  {
   "cell_type": "markdown",
   "metadata": {},
   "source": [
    "Data pre-processing converts features into format that is more suitable for the estimators."
   ]
  },
  {
   "cell_type": "markdown",
   "metadata": {},
   "source": [
    "RobustScaler for our example"
   ]
  },
  {
   "cell_type": "markdown",
   "metadata": {
    "ExecuteTime": {
     "end_time": "2021-05-18T21:43:37.342256Z",
     "start_time": "2021-05-18T21:43:37.339360Z"
    }
   },
   "source": [
    "https://scikit-learn.org/stable/modules/preprocessing.html#preprocessing-data"
   ]
  },
  {
   "cell_type": "markdown",
   "metadata": {},
   "source": [
    "## Feature selection"
   ]
  },
  {
   "cell_type": "markdown",
   "metadata": {},
   "source": [
    "Feature selection or dimensionality reduction on data sets helps to\n",
    "\n",
    "    - Either to improve models’ accuracy scores\n",
    "    - To boost their performance on very high-dimensional data sets."
   ]
  },
  {
   "cell_type": "markdown",
   "metadata": {
    "ExecuteTime": {
     "end_time": "2021-05-18T21:46:30.020469Z",
     "start_time": "2021-05-18T21:46:30.017768Z"
    }
   },
   "source": [
    " SelectKBest, univariate feature selection method."
   ]
  },
  {
   "cell_type": "markdown",
   "metadata": {
    "ExecuteTime": {
     "end_time": "2021-05-18T21:48:42.566386Z",
     "start_time": "2021-05-18T21:48:42.563334Z"
    }
   },
   "source": [
    "With f_classif as a score_func\n",
    "\n",
    "ANOVA F-value between label/feature for classification tasks."
   ]
  },
  {
   "cell_type": "markdown",
   "metadata": {},
   "source": [
    "https://scikit-learn.org/stable/modules/feature_selection.html#feature-selection"
   ]
  },
  {
   "cell_type": "markdown",
   "metadata": {
    "ExecuteTime": {
     "end_time": "2021-05-18T21:49:18.756916Z",
     "start_time": "2021-05-18T21:49:18.754889Z"
    }
   },
   "source": [
    "## Model Selction"
   ]
  },
  {
   "cell_type": "markdown",
   "metadata": {},
   "source": [
    "LogisticRegression"
   ]
  },
  {
   "cell_type": "markdown",
   "metadata": {
    "ExecuteTime": {
     "end_time": "2021-05-18T21:50:32.168540Z",
     "start_time": "2021-05-18T21:50:32.166683Z"
    }
   },
   "source": [
    "## Pipeline"
   ]
  },
  {
   "cell_type": "code",
   "execution_count": 24,
   "metadata": {
    "ExecuteTime": {
     "end_time": "2021-05-19T09:51:32.661531Z",
     "start_time": "2021-05-19T09:51:32.653197Z"
    }
   },
   "outputs": [],
   "source": [
    "###    Data\n",
    "###    X   y       [0, 10, 300,  50]\n",
    "###    PreProcessing\n",
    "###    X_  y_      [0.0, 0.03333333333333333, 1.0, 0.16666666666666666]\n",
    "###    FeatureSelection\n",
    "###    X_sm  y_sm      [0.0, 0.16666666666666666]\n",
    "###    Model\n",
    "###    X_ y_ -> prediction_ \n",
    "###              -> prediction\n",
    "\n"
   ]
  },
  {
   "cell_type": "code",
   "execution_count": 25,
   "metadata": {
    "ExecuteTime": {
     "end_time": "2021-05-19T09:51:32.671496Z",
     "start_time": "2021-05-19T09:51:32.662703Z"
    }
   },
   "outputs": [],
   "source": [
    "# Data pre-processing, Feature selection and Model selection.\n",
    "\n",
    "# Imports for pipeline\n",
    "from sklearn.pipeline import make_pipeline\n",
    "\n",
    "from sklearn.preprocessing import RobustScaler\n",
    "from sklearn.feature_selection import SelectKBest, f_classif\n",
    "from sklearn.linear_model import LogisticRegression\n",
    "\n",
    "# Create pipeline\n",
    "pipeline = make_pipeline(\\\n",
    "                         RobustScaler(),\n",
    "                         SelectKBest(f_classif),\n",
    "                         LogisticRegression(solver='lbfgs'))"
   ]
  },
  {
   "cell_type": "markdown",
   "metadata": {
    "ExecuteTime": {
     "end_time": "2021-05-18T21:58:17.694928Z",
     "start_time": "2021-05-18T21:58:17.693264Z"
    }
   },
   "source": [
    "## Hyper Parameters Optimisation"
   ]
  },
  {
   "cell_type": "code",
   "execution_count": 34,
   "metadata": {
    "ExecuteTime": {
     "end_time": "2021-05-19T10:04:40.803746Z",
     "start_time": "2021-05-19T10:04:39.159602Z"
    }
   },
   "outputs": [
    {
     "name": "stdout",
     "output_type": "stream",
     "text": [
      "Fitting 5 folds for each of 54 candidates, totalling 270 fits\n"
     ]
    },
    {
     "data": {
      "text/plain": [
       "GridSearchCV(cv=5,\n",
       "             estimator=Pipeline(steps=[('robustscaler', RobustScaler()),\n",
       "                                       ('selectkbest', SelectKBest()),\n",
       "                                       ('logisticregression',\n",
       "                                        LogisticRegression())]),\n",
       "             param_grid={'logisticregression__C': [0.0001, 0.001, 0.01, 0.1,\n",
       "                                                   1.0, 10.0, 100.0, 1000.0,\n",
       "                                                   10000.0],\n",
       "                         'logisticregression__class_weight': [None, 'balanced'],\n",
       "                         'selectkbest__k': [1, 2, 3]},\n",
       "             scoring='accuracy', verbose=1)"
      ]
     },
     "execution_count": 34,
     "metadata": {},
     "output_type": "execute_result"
    }
   ],
   "source": [
    "from sklearn.model_selection import GridSearchCV\n",
    "\n",
    "param_grid = {\n",
    "    'selectkbest__k': [1, 2, 3],\n",
    "    'logisticregression__class_weight': [None,'balanced'],\n",
    "    'logisticregression__C': [.0001, .001, .01, .1, 1.0, 10.0, 100.00, 1000.0, 10000.0]\n",
    "}\n",
    "\n",
    "# CV is Cross-Validation strategy\n",
    "gridsearch = GridSearchCV(pipeline, param_grid=param_grid, cv=5,\n",
    "                         scoring='accuracy', verbose=1)\n",
    "\n",
    "gridsearch.fit(X_train, y_train)"
   ]
  },
  {
   "cell_type": "markdown",
   "metadata": {},
   "source": [
    "### Kfold interlude"
   ]
  },
  {
   "cell_type": "markdown",
   "metadata": {},
   "source": [
    "#### Definition"
   ]
  },
  {
   "cell_type": "markdown",
   "metadata": {},
   "source": [
    "Cross-validation is a statistical method used to estimate the skill of machine learning models"
   ]
  },
  {
   "cell_type": "markdown",
   "metadata": {},
   "source": [
    "KFold is commonly used in applied machine learning to:\n",
    "\n",
    " - compare and select a model for a given predictive modeling problem\n",
    " - because it is:\n",
    "     - easy to understand, \n",
    "     - easy to implement, \n",
    "\n",
    "Results in skill estimates with a lower bias than other methods\n",
    "\n",
    "It is indicated principally for small datasets"
   ]
  },
  {
   "cell_type": "markdown",
   "metadata": {},
   "source": [
    "Lets make use of 5-fold cross-validation with independent test data set"
   ]
  },
  {
   "cell_type": "markdown",
   "metadata": {},
   "source": [
    "![Corss Validation](https://jakevdp.github.io/PythonDataScienceHandbook/figures/05.03-5-fold-CV.png)"
   ]
  },
  {
   "cell_type": "markdown",
   "metadata": {},
   "source": [
    "#### Example"
   ]
  },
  {
   "cell_type": "code",
   "execution_count": 35,
   "metadata": {
    "ExecuteTime": {
     "end_time": "2021-05-19T10:04:44.022238Z",
     "start_time": "2021-05-19T10:04:44.017340Z"
    }
   },
   "outputs": [
    {
     "name": "stdout",
     "output_type": "stream",
     "text": [
      "train: [0.3 0.4 0.5 0.6], test: [0.1 0.2]\n",
      "train: [0.1 0.2 0.4 0.5], test: [0.3 0.6]\n",
      "train: [0.1 0.2 0.3 0.6], test: [0.4 0.5]\n"
     ]
    }
   ],
   "source": [
    "# scikit-learn k-fold cross-validation\n",
    "from numpy import array\n",
    "from sklearn.model_selection import KFold\n",
    "# data sample\n",
    "data = array([0.1, 0.2, 0.3, 0.4, 0.5, 0.6])\n",
    "# prepare cross validation\n",
    "kfold = KFold(n_splits=3, shuffle=True, random_state=42)\n",
    "# enumerate splits\n",
    "for train, test in kfold.split(data):\n",
    "    print(f'train: {data[train]}, test: {data[test]}')"
   ]
  },
  {
   "cell_type": "markdown",
   "metadata": {},
   "source": [
    "## Interpreting Results"
   ]
  },
  {
   "cell_type": "markdown",
   "metadata": {},
   "source": [
    "### Best cross validation score"
   ]
  },
  {
   "cell_type": "code",
   "execution_count": 36,
   "metadata": {
    "ExecuteTime": {
     "end_time": "2021-05-19T10:04:47.122093Z",
     "start_time": "2021-05-19T10:04:47.119090Z"
    }
   },
   "outputs": [
    {
     "name": "stdout",
     "output_type": "stream",
     "text": [
      "Cross Validation Score: 0.7771649810366623\n"
     ]
    }
   ],
   "source": [
    "# Mean cross-validated score of the best_estimator. \n",
    "# For our problem set we got a best score of 78% for our very first iteration.\n",
    "# This seems not much but we have already beaten our baseline accuracy score.\n",
    "print('Cross Validation Score:', gridsearch.best_score_)"
   ]
  },
  {
   "cell_type": "markdown",
   "metadata": {},
   "source": [
    "### Best Parameters"
   ]
  },
  {
   "cell_type": "code",
   "execution_count": 37,
   "metadata": {
    "ExecuteTime": {
     "end_time": "2021-05-19T10:04:49.045201Z",
     "start_time": "2021-05-19T10:04:49.042482Z"
    }
   },
   "outputs": [
    {
     "name": "stdout",
     "output_type": "stream",
     "text": [
      "Best Parameters: {'logisticregression__C': 1.0, 'logisticregression__class_weight': None, 'selectkbest__k': 2}\n"
     ]
    }
   ],
   "source": [
    "# Best parameters which resulted in the best score\n",
    "print('Best Parameters:', gridsearch.best_params_)"
   ]
  },
  {
   "cell_type": "markdown",
   "metadata": {},
   "source": [
    "### Best estimator"
   ]
  },
  {
   "cell_type": "code",
   "execution_count": 38,
   "metadata": {
    "ExecuteTime": {
     "end_time": "2021-05-19T10:04:51.364835Z",
     "start_time": "2021-05-19T10:04:51.359960Z"
    }
   },
   "outputs": [
    {
     "name": "stdout",
     "output_type": "stream",
     "text": [
      "Features selected:\n",
      "\tmonths_since_last_donation\n",
      "\ttotal_volume_donated\n",
      "\n",
      "Features not selected:\n",
      "\tnumber_of_donations\n",
      "\tmonths_since_first_donation\n"
     ]
    }
   ],
   "source": [
    "# Which features were selected?\n",
    "\n",
    "# best_estimator_, estimator which gave highest score.\n",
    "# Using this we can get the information about the selected features.\n",
    "best_pipeline = gridsearch.best_estimator_\n",
    "selector = best_pipeline.named_steps['selectkbest']\n",
    "all_names = X_train.columns\n",
    "# .get_support() -> Get a mask of selected features\n",
    "selected_mask = selector.get_support()\n",
    "selected_names = all_names[selected_mask]\n",
    "unselected_names = all_names[~selected_mask]\n",
    "\n",
    "print('Features selected:')\n",
    "for name in selected_names:\n",
    "    print(f\"\\t{name}\")\n",
    "\n",
    "print()\n",
    "print('Features not selected:')\n",
    "for name in unselected_names:\n",
    "    print(f\"\\t{name}\")"
   ]
  },
  {
   "cell_type": "markdown",
   "metadata": {},
   "source": [
    "## Plotting ROC"
   ]
  },
  {
   "cell_type": "code",
   "execution_count": 31,
   "metadata": {
    "ExecuteTime": {
     "end_time": "2021-05-19T09:51:35.251554Z",
     "start_time": "2021-05-19T09:51:35.143493Z"
    }
   },
   "outputs": [
    {
     "data": {
      "image/png": "[encoded data removed]",
      "text/plain": [
       "<Figure size 432x288 with 1 Axes>"
      ]
     },
     "metadata": {
      "needs_background": "light"
     },
     "output_type": "display_data"
    }
   ],
   "source": [
    "import matplotlib.pyplot as plt  \n",
    "from sklearn import datasets, metrics, model_selection, svm\n",
    "\n",
    "# Also works with models !\n",
    "metrics.plot_roc_curve(gridsearch.best_estimator_, X_test, y_test)  \n",
    "plt.show()  "
   ]
  }
 ],
 "metadata": {
  "kernelspec": {
   "display_name": "Python 3 (ipykernel)",
   "language": "python",
   "name": "python3"
  },
  "language_info": {
   "codemirror_mode": {
    "name": "ipython",
    "version": 3
   },
   "file_extension": ".py",
   "mimetype": "text/x-python",
   "name": "python",
   "nbconvert_exporter": "python",
   "pygments_lexer": "ipython3",
   "version": "3.8.11"
  },
  "toc": {
   "base_numbering": 1,
   "nav_menu": {},
   "number_sections": true,
   "sideBar": true,
   "skip_h1_title": false,
   "title_cell": "Table of Contents",
   "title_sidebar": "Contents",
   "toc_cell": false,
   "toc_position": {},
   "toc_section_display": true,
   "toc_window_display": false
  },
  "varInspector": {
   "cols": {
    "lenName": 16,
    "lenType": 16,
    "lenVar": 40
   },
   "kernels_config": {
    "python": {
     "delete_cmd_postfix": "",
     "delete_cmd_prefix": "del ",
     "library": "var_list.py",
     "varRefreshCmd": "print(var_dic_list())"
    },
    "r": {
     "delete_cmd_postfix": ") ",
     "delete_cmd_prefix": "rm(",
     "library": "var_list.r",
     "varRefreshCmd": "cat(var_dic_list()) "
    }
   },
   "types_to_exclude": [
    "module",
    "function",
    "builtin_function_or_method",
    "instance",
    "_Feature"
   ],
   "window_display": false
  }
 },
 "nbformat": 4,
 "nbformat_minor": 2
}
