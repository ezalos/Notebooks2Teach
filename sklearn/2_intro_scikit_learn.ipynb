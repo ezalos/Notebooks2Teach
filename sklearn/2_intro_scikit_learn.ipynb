{
 "cells": [
  {
   "cell_type": "markdown",
   "metadata": {
    "heading_collapsed": true
   },
   "source": [
    "# Scikit Learn\n",
    "![alt text](https://scikit-learn.org/stable/_static/scikit-learn-logo-small.png \"Logo Title Text 1\")\n",
    "   - Algorithmes, vocabulaire\n",
    "   - Panorama de Scikit Learn\n",
    "   - Démarche d’apprentissage"
   ]
  },
  {
   "cell_type": "markdown",
   "metadata": {
    "heading_collapsed": true
   },
   "source": [
    "# About SciKit Learn"
   ]
  },
  {
   "cell_type": "markdown",
   "metadata": {
    "ExecuteTime": {
     "end_time": "2021-05-10T14:45:34.284767Z",
     "start_time": "2021-05-10T14:45:34.277610Z"
    },
    "heading_collapsed": true,
    "hidden": true
   },
   "source": [
    "## Creation"
   ]
  },
  {
   "cell_type": "markdown",
   "metadata": {
    "hidden": true
   },
   "source": [
    "Initially developed by David Cournapeau as a Google summer of code project in 2007"
   ]
  },
  {
   "cell_type": "markdown",
   "metadata": {
    "ExecuteTime": {
     "end_time": "2021-05-10T14:47:26.996962Z",
     "start_time": "2021-05-10T14:47:26.993217Z"
    },
    "hidden": true
   },
   "source": [
    "In 2010 INRIA got involved and the first public release (v0.1 beta) was published in late January 2010."
   ]
  },
  {
   "cell_type": "markdown",
   "metadata": {
    "hidden": true
   },
   "source": [
    "The project now has more than 30 active contributors and has had paid sponsorship from:\n",
    "\n",
    "   - INRIA, \n",
    "   - Google, \n",
    "   - Tinyclues and \n",
    "   - the Python Software Foundation."
   ]
  },
  {
   "cell_type": "markdown",
   "metadata": {
    "heading_collapsed": true,
    "hidden": true
   },
   "source": [
    "## What is SciKit Learn?"
   ]
  },
  {
   "cell_type": "markdown",
   "metadata": {
    "hidden": true
   },
   "source": [
    "supervised and unsupervised learning algorithms\n",
    "\n",
    "via a consistent interface in Python."
   ]
  },
  {
   "cell_type": "markdown",
   "metadata": {
    "hidden": true
   },
   "source": [
    "built upon the SciPy (Scientific Python) \n",
    "\n",
    "The stack that includes:\n",
    "\n",
    " - NumPy: Base n-dimensional array package\n",
    " - SciPy: Fundamental library for scientific computing\n",
    " - Matplotlib: Comprehensive 2D/3D plotting\n",
    " - IPython: Enhanced interactive console\n",
    " - Sympy: Symbolic mathematics\n",
    " - Pandas: Data structures and analysis"
   ]
  },
  {
   "cell_type": "markdown",
   "metadata": {
    "hidden": true
   },
   "source": [
    "Although the interface is Python, c-libraries are leverage for performance"
   ]
  },
  {
   "cell_type": "markdown",
   "metadata": {
    "heading_collapsed": true,
    "hidden": true
   },
   "source": [
    "## What are the features ?"
   ]
  },
  {
   "cell_type": "markdown",
   "metadata": {
    "ExecuteTime": {
     "end_time": "2021-05-10T14:51:48.261103Z",
     "start_time": "2021-05-10T14:51:48.135347Z"
    },
    "hidden": true
   },
   "source": [
    "Screenshot taken from a demo of the mean-shift clustering algorithm:\n",
    "\n",
    "![Example](https://machinelearningmastery.com/wp-content/uploads/2014/04/plot_mean_shift_1.png)"
   ]
  },
  {
   "cell_type": "markdown",
   "metadata": {
    "hidden": true
   },
   "source": [
    " - Clustering: \n",
    "     - for grouping unlabeled data such as KMeans.\n",
    " - Cross Validation: \n",
    "     - for estimating the performance of supervised models on unseen data.\n",
    " - Datasets: \n",
    "     - for test datasets and for generating datasets with specific properties for investigating model behavior.\n",
    " - Dimensionality Reduction: \n",
    "     - for reducing the number of attributes in data for summarization, visualization and feature selection such as Principal component analysis.\n",
    " - Ensemble methods: \n",
    "     - for combining the predictions of multiple supervised models.\n",
    " - Feature extraction: \n",
    "     - for defining attributes in image and text data.\n",
    " - Feature selection: \n",
    "     - for identifying meaningful attributes from which to create supervised models.\n",
    " - Parameter Tuning: \n",
    "     - for getting the most out of supervised models.\n",
    " - Manifold Learning: \n",
    "     - For summarizing and depicting complex multi-dimensional data.\n",
    " - Supervised Models: \n",
    "     - a vast array not limited to generalized linear models, discriminate analysis, naive bayes, lazy methods, neural networks, support vector machines and decision trees."
   ]
  },
  {
   "cell_type": "markdown",
   "metadata": {
    "ExecuteTime": {
     "end_time": "2021-05-07T14:56:59.459976Z",
     "start_time": "2021-05-07T14:56:59.454729Z"
    },
    "heading_collapsed": true
   },
   "source": [
    "# Scikit Learn Installation"
   ]
  },
  {
   "cell_type": "markdown",
   "metadata": {
    "hidden": true
   },
   "source": [
    "```sh\n",
    "pip install sklearn\n",
    "```\n",
    "\n",
    "Alternative if problem\n",
    "```sh\n",
    "python3 -m pip install package\n",
    "```\n",
    "\n",
    "if venv:\n",
    "```sh\n",
    "pip install --user ipykernel\n",
    "python -m ipykernel install --user --name=myenv\n",
    "```\n",
    "\n",
    "listing venv\n",
    "```sh\n",
    "jupyter kernelspec list\n",
    "```\n",
    "\n",
    "removing venv\n",
    "```sh\n",
    "jupyter kernelspec uninstall myenv\n",
    "```\n"
   ]
  },
  {
   "cell_type": "code",
   "execution_count": 6,
   "metadata": {
    "ExecuteTime": {
     "end_time": "2021-05-17T09:50:23.747350Z",
     "start_time": "2021-05-17T09:50:22.503462Z"
    },
    "hidden": true,
    "scrolled": true
   },
   "outputs": [
    {
     "name": "stdout",
     "output_type": "stream",
     "text": [
      "Requirement already satisfied: sklearn in ./DataManing/lib/python3.8/site-packages (0.0)\n",
      "Requirement already satisfied: numpy in ./DataManing/lib/python3.8/site-packages (1.19.5)\n",
      "Requirement already satisfied: pandas in ./DataManing/lib/python3.8/site-packages (1.2.4)\n",
      "Requirement already satisfied: matplotlib in ./DataManing/lib/python3.8/site-packages (3.4.2)\n",
      "Requirement already satisfied: seaborn in ./DataManing/lib/python3.8/site-packages (0.11.1)\n",
      "Requirement already satisfied: keras in ./DataManing/lib/python3.8/site-packages (2.4.3)\n",
      "Requirement already satisfied: scikit-learn in ./DataManing/lib/python3.8/site-packages (from sklearn) (0.24.2)\n",
      "Requirement already satisfied: python-dateutil>=2.7.3 in ./DataManing/lib/python3.8/site-packages (from pandas) (2.8.1)\n",
      "Requirement already satisfied: pytz>=2017.3 in ./DataManing/lib/python3.8/site-packages (from pandas) (2021.1)\n",
      "Requirement already satisfied: pyparsing>=2.2.1 in ./DataManing/lib/python3.8/site-packages (from matplotlib) (2.4.7)\n",
      "Requirement already satisfied: cycler>=0.10 in ./DataManing/lib/python3.8/site-packages (from matplotlib) (0.10.0)\n",
      "Requirement already satisfied: pillow>=6.2.0 in ./DataManing/lib/python3.8/site-packages (from matplotlib) (8.2.0)\n",
      "Requirement already satisfied: kiwisolver>=1.0.1 in ./DataManing/lib/python3.8/site-packages (from matplotlib) (1.3.1)\n",
      "Requirement already satisfied: scipy>=1.0 in ./DataManing/lib/python3.8/site-packages (from seaborn) (1.6.3)\n",
      "Requirement already satisfied: h5py in ./DataManing/lib/python3.8/site-packages (from keras) (3.1.0)\n",
      "Requirement already satisfied: pyyaml in ./DataManing/lib/python3.8/site-packages (from keras) (5.4.1)\n",
      "Requirement already satisfied: joblib>=0.11 in ./DataManing/lib/python3.8/site-packages (from scikit-learn->sklearn) (1.0.1)\n",
      "Requirement already satisfied: threadpoolctl>=2.0.0 in ./DataManing/lib/python3.8/site-packages (from scikit-learn->sklearn) (2.1.0)\n",
      "Requirement already satisfied: six>=1.5 in ./DataManing/lib/python3.8/site-packages (from python-dateutil>=2.7.3->pandas) (1.15.0)\n",
      "Note: you may need to restart the kernel to use updated packages.\n"
     ]
    }
   ],
   "source": [
    "!pip install sklearn numpy pandas matplotlib seaborn keras "
   ]
  },
  {
   "cell_type": "code",
   "execution_count": 4,
   "metadata": {
    "ExecuteTime": {
     "end_time": "2021-05-17T09:45:33.082131Z",
     "start_time": "2021-05-17T09:45:32.321487Z"
    },
    "hidden": true,
    "scrolled": true
   },
   "outputs": [
    {
     "name": "stdout",
     "output_type": "stream",
     "text": [
      "absl-py==0.12.0\r\n",
      "argon2-cffi==20.1.0\r\n",
      "astunparse==1.6.3\r\n",
      "async-generator==1.10\r\n",
      "attrs==21.2.0\r\n",
      "autopep8==1.5.7\r\n",
      "backcall==0.2.0\r\n",
      "bleach==3.3.0\r\n",
      "Bottleneck==1.3.2\r\n",
      "cachetools==4.2.2\r\n",
      "certifi==2020.12.5\r\n",
      "cffi==1.14.5\r\n",
      "chardet==4.0.0\r\n",
      "cycler==0.10.0\r\n",
      "decorator==4.4.2\r\n",
      "defusedxml==0.7.1\r\n",
      "entrypoints==0.3\r\n",
      "flatbuffers==1.12\r\n",
      "gast==0.4.0\r\n",
      "google-auth==1.30.0\r\n",
      "google-auth-oauthlib==0.4.4\r\n",
      "google-pasta==0.2.0\r\n",
      "grpcio==1.34.1\r\n",
      "h5py==3.1.0\r\n",
      "htmlmin==0.1.12\r\n",
      "idna==2.10\r\n",
      "ImageHash==4.2.0\r\n",
      "IProgress==0.4\r\n",
      "ipykernel==5.5.5\r\n",
      "ipython==7.23.1\r\n",
      "ipython-genutils==0.2.0\r\n",
      "ipywidgets==7.6.3\r\n",
      "jedi==0.18.0\r\n",
      "Jinja2==3.0.0\r\n",
      "joblib==1.0.1\r\n",
      "jsonschema==3.2.0\r\n",
      "jupyter-client==6.1.12\r\n",
      "jupyter-contrib-core==0.3.3\r\n",
      "jupyter-contrib-nbextensions==0.5.1\r\n",
      "jupyter-core==4.7.1\r\n",
      "jupyter-highlight-selected-word==0.2.0\r\n",
      "jupyter-latex-envs==1.4.6\r\n",
      "jupyter-nbextensions-configurator==0.4.1\r\n",
      "jupyterlab-pygments==0.1.2\r\n",
      "jupyterlab-widgets==1.0.0\r\n",
      "jupyterthemes==0.20.0\r\n",
      "Keras==2.4.3\r\n",
      "keras-nightly==2.5.0.dev2021032900\r\n",
      "Keras-Preprocessing==1.1.2\r\n",
      "kiwisolver==1.3.1\r\n",
      "lesscpy==0.14.0\r\n",
      "lxml==4.6.3\r\n",
      "Markdown==3.3.4\r\n",
      "MarkupSafe==2.0.0\r\n",
      "matplotlib==3.4.2\r\n",
      "matplotlib-inline==0.1.2\r\n",
      "missingno==0.4.2\r\n",
      "mistune==0.8.4\r\n",
      "multimethod==1.4\r\n",
      "nbclient==0.5.3\r\n",
      "nbconvert==6.0.7\r\n",
      "nbformat==5.1.3\r\n",
      "nest-asyncio==1.5.1\r\n",
      "networkx==2.5.1\r\n",
      "notebook==6.3.0\r\n",
      "numpy==1.19.5\r\n",
      "oauthlib==3.1.0\r\n",
      "opt-einsum==3.3.0\r\n",
      "packaging==20.9\r\n",
      "pandas==1.2.4\r\n",
      "pandas-profiling==3.0.0\r\n",
      "pandocfilters==1.4.3\r\n",
      "parso==0.8.2\r\n",
      "pexpect==4.8.0\r\n",
      "phik==0.11.2\r\n",
      "pickleshare==0.7.5\r\n",
      "Pillow==8.2.0\r\n",
      "ply==3.11\r\n",
      "prometheus-client==0.10.1\r\n",
      "prompt-toolkit==3.0.18\r\n",
      "protobuf==3.17.0\r\n",
      "ptyprocess==0.7.0\r\n",
      "pyasn1==0.4.8\r\n",
      "pyasn1-modules==0.2.8\r\n",
      "pycodestyle==2.7.0\r\n",
      "pycparser==2.20\r\n",
      "pydantic==1.8.2\r\n",
      "Pygments==2.9.0\r\n",
      "pyparsing==2.4.7\r\n",
      "pyrsistent==0.17.3\r\n",
      "python-dateutil==2.8.1\r\n",
      "pytz==2021.1\r\n",
      "PyWavelets==1.1.1\r\n",
      "PyYAML==5.4.1\r\n",
      "pyzmq==22.0.3\r\n",
      "requests==2.25.1\r\n",
      "requests-oauthlib==1.3.0\r\n",
      "rsa==4.7.2\r\n",
      "scikit-learn==0.24.2\r\n",
      "scipy==1.6.3\r\n",
      "seaborn==0.11.1\r\n",
      "Send2Trash==1.5.0\r\n",
      "six==1.15.0\r\n",
      "sklearn==0.0\r\n",
      "tangled-up-in-unicode==0.1.0\r\n",
      "tensorboard==2.5.0\r\n",
      "tensorboard-data-server==0.6.1\r\n",
      "tensorboard-plugin-wit==1.8.0\r\n",
      "tensorflow==2.5.0\r\n",
      "tensorflow-estimator==2.5.0\r\n",
      "termcolor==1.1.0\r\n",
      "terminado==0.9.5\r\n",
      "testpath==0.4.4\r\n",
      "threadpoolctl==2.1.0\r\n",
      "toml==0.10.2\r\n",
      "tornado==6.1\r\n",
      "tqdm==4.60.0\r\n",
      "traitlets==5.0.5\r\n",
      "typing-extensions==3.7.4.3\r\n",
      "urllib3==1.26.4\r\n",
      "visions==0.7.1\r\n",
      "wcwidth==0.2.5\r\n",
      "webencodings==0.5.1\r\n",
      "Werkzeug==2.0.0\r\n",
      "widgetsnbextension==3.5.1\r\n",
      "wrapt==1.12.1\r\n",
      "yapf==0.31.0\r\n"
     ]
    }
   ],
   "source": [
    "!pip freeze"
   ]
  },
  {
   "cell_type": "code",
   "execution_count": 36,
   "metadata": {
    "ExecuteTime": {
     "end_time": "2021-05-11T09:35:56.106291Z",
     "start_time": "2021-05-11T09:35:56.096724Z"
    },
    "hidden": true
   },
   "outputs": [
    {
     "name": "stdout",
     "output_type": "stream",
     "text": [
      "/home/ezalos/42/DataMining/DataManing/bin:/home/ezalos/miniconda3/condabin:/home/ezalos/.autojump/bin:/home/ezalos/.cargo/bin:/home/ezalos/.local/bin:/usr/local/sbin:/usr/local/bin:/usr/sbin:/usr/bin:/sbin:/bin:/usr/games:/usr/local/games:/snap/bin:/home/ezalos/miniconda3/bin \n",
      "\n",
      "/home/ezalos/42/DataMining/DataManing/bin:/home/ezalos/miniconda3/condabin:/home/ezalos/.autojump/bin:/home/ezalos/.cargo/bin:/home/ezalos/.local/bin:/usr/local/sbin:/usr/local/bin:/usr/sbin:/usr/bin:/sbin:/bin:/usr/games:/usr/local/games:/snap/bin:/home/ezalos/miniconda3/bin \n",
      "\n",
      "/home/ezalos/42/DataMining/DataManing/bin/python3\n"
     ]
    }
   ],
   "source": [
    "import sys\n",
    "import os\n",
    "\n",
    "print(os.environ['PATH'], \"\\n\")\n",
    "# os.environ['PATH'] += ':/home/ezalos/42/DataMining'\n",
    "print(os.environ['PATH'], \"\\n\")\n",
    "\n",
    "print(sys.executable)"
   ]
  },
  {
   "cell_type": "code",
   "execution_count": 37,
   "metadata": {
    "ExecuteTime": {
     "end_time": "2021-05-11T09:35:56.113628Z",
     "start_time": "2021-05-11T09:35:56.108561Z"
    },
    "hidden": true
   },
   "outputs": [
    {
     "name": "stdout",
     "output_type": "stream",
     "text": [
      "['/home/ezalos/42/DataMining/DataManing/lib/python3.8/site-packages/numpy']\n"
     ]
    }
   ],
   "source": [
    "import numpy as np\n",
    "print(np.__path__)"
   ]
  },
  {
   "cell_type": "markdown",
   "metadata": {
    "heading_collapsed": true
   },
   "source": [
    "# Machine Learning"
   ]
  },
  {
   "cell_type": "markdown",
   "metadata": {
    "hidden": true
   },
   "source": [
    "In general, a learning problem considers a **set of n samples of data and then tries to predict properties of unknown data**. "
   ]
  },
  {
   "cell_type": "markdown",
   "metadata": {
    "hidden": true
   },
   "source": [
    "If each sample is **more than a single number** and, for instance, a multi-dimensional entry (aka multivariate data), it is said to have several attributes or **features**."
   ]
  },
  {
   "cell_type": "markdown",
   "metadata": {
    "heading_collapsed": true,
    "hidden": true
   },
   "source": [
    "## Supervised learning"
   ]
  },
  {
   "cell_type": "markdown",
   "metadata": {
    "hidden": true
   },
   "source": [
    "In which the data comes with additional attributes that we want to predict.\n",
    "\n",
    "\n",
    "This problem can be either:\n"
   ]
  },
  {
   "cell_type": "markdown",
   "metadata": {
    "ExecuteTime": {
     "end_time": "2021-05-09T16:06:48.311934Z",
     "start_time": "2021-05-09T16:06:48.303982Z"
    },
    "heading_collapsed": true,
    "hidden": true
   },
   "source": [
    "### classification\n",
    "\n",
    "**samples belong to two or more classes** and we want to learn from already labeled data how to predict the class of unlabeled data.\n",
    "\n",
    "\n",
    "An example of a classification problem would be handwritten digit recognition, in which the aim is to assign each input vector to one of a finite number of discrete categories.\n",
    "\n",
    "Another way to think of classification is as a discrete (as opposed to continuous) form of supervised learning where one has a limited number of categories and for each of the n samples provided, one is to try to label them with the correct category or class."
   ]
  },
  {
   "cell_type": "markdown",
   "metadata": {
    "heading_collapsed": true,
    "hidden": true
   },
   "source": [
    "### regression\n",
    "\n",
    "If the desired output consists of **one or more continuous variables**, then the task is called regression.\n",
    "\n",
    "An example of a regression problem would be the prediction of the length of a salmon as a function of its age and weight."
   ]
  },
  {
   "cell_type": "markdown",
   "metadata": {
    "ExecuteTime": {
     "end_time": "2021-05-09T16:06:16.967360Z",
     "start_time": "2021-05-09T16:06:16.964743Z"
    },
    "heading_collapsed": true,
    "hidden": true
   },
   "source": [
    "## Unupervised Learning"
   ]
  },
  {
   "cell_type": "markdown",
   "metadata": {
    "hidden": true
   },
   "source": [
    "in which the training data consists of a set of input vectors x **without any corresponding target values**.\n",
    "\n",
    "\n",
    "**The goal** in such problems may be to:\n",
    "- **discover groups** of similar examples within the data, where it is called clustering, or\n",
    "- to **determine the distribution** of data within the input space, known as density estimation, or\n",
    "- to project the data from a high-dimensional space down to two or three dimensions for the purpose of **visualization** (Click here to go to the Scikit-Learn unsupervised learning page)."
   ]
  },
  {
   "cell_type": "markdown",
   "metadata": {},
   "source": [
    "# Scikit learn Hello World"
   ]
  },
  {
   "cell_type": "markdown",
   "metadata": {},
   "source": [
    "## Loading an example dataset"
   ]
  },
  {
   "cell_type": "markdown",
   "metadata": {},
   "source": [
    "scikit-learn comes with a few standard datasets, for instance the **iris and digits** datasets for classification and the diabetes dataset for regression."
   ]
  },
  {
   "cell_type": "markdown",
   "metadata": {},
   "source": [
    "### Dataset\n",
    "A dataset is a dictionary-like object that holds all the data and some metadata about the data.\n",
    "\n",
    "This data is stored in the `.data member`, which is a `n_samples`, `n_features array`.\n",
    "\n",
    "In the case of supervised problem, one or more response variables are stored in the .target member."
   ]
  },
  {
   "cell_type": "code",
   "execution_count": 10,
   "metadata": {
    "ExecuteTime": {
     "end_time": "2021-05-17T10:06:08.510980Z",
     "start_time": "2021-05-17T10:06:08.468657Z"
    }
   },
   "outputs": [],
   "source": [
    "from sklearn import datasets\n",
    "\n",
    "iris = datasets.load_iris()\n",
    "digits = datasets.load_digits()"
   ]
  },
  {
   "cell_type": "code",
   "execution_count": 15,
   "metadata": {
    "ExecuteTime": {
     "end_time": "2021-05-17T10:08:15.193166Z",
     "start_time": "2021-05-17T10:08:15.190776Z"
    }
   },
   "outputs": [],
   "source": [
    "a = 1"
   ]
  },
  {
   "cell_type": "code",
   "execution_count": 16,
   "metadata": {
    "ExecuteTime": {
     "end_time": "2021-05-17T10:08:20.262098Z",
     "start_time": "2021-05-17T10:08:20.258786Z"
    }
   },
   "outputs": [
    {
     "data": {
      "text/plain": [
       "1"
      ]
     },
     "execution_count": 16,
     "metadata": {},
     "output_type": "execute_result"
    }
   ],
   "source": [
    "a"
   ]
  },
  {
   "cell_type": "code",
   "execution_count": 17,
   "metadata": {
    "ExecuteTime": {
     "end_time": "2021-05-17T10:08:47.690906Z",
     "start_time": "2021-05-17T10:08:47.688355Z"
    }
   },
   "outputs": [
    {
     "name": "stdout",
     "output_type": "stream",
     "text": [
      "<class 'sklearn.utils.Bunch'>\n"
     ]
    }
   ],
   "source": [
    "print(type(iris))"
   ]
  },
  {
   "cell_type": "markdown",
   "metadata": {},
   "source": [
    "`digits.data`gives access to the features that can be used to classify the digits samples"
   ]
  },
  {
   "cell_type": "code",
   "execution_count": 29,
   "metadata": {
    "ExecuteTime": {
     "end_time": "2021-05-17T10:26:54.477151Z",
     "start_time": "2021-05-17T10:26:54.472761Z"
    }
   },
   "outputs": [
    {
     "name": "stdout",
     "output_type": "stream",
     "text": [
      "[[ 0.  0.  5. ...  0.  0.  0.]\n",
      " [ 0.  0.  0. ... 10.  0.  0.]\n",
      " [ 0.  0.  0. ... 16.  9.  0.]\n",
      " ...\n",
      " [ 0.  0.  1. ...  6.  0.  0.]\n",
      " [ 0.  0.  2. ... 12.  0.  0.]\n",
      " [ 0.  0. 10. ... 12.  1.  0.]]\n"
     ]
    },
    {
     "data": {
      "text/plain": [
       "(1797, 64)"
      ]
     },
     "execution_count": 29,
     "metadata": {},
     "output_type": "execute_result"
    }
   ],
   "source": [
    "np.set_printoptions(threshold=5)\n",
    "print(digits.data)\n",
    "digits.data.shape"
   ]
  },
  {
   "cell_type": "markdown",
   "metadata": {},
   "source": [
    "`digits.target` gives the ground truth for the digit dataset, that is the number corresponding to each digit image that we are trying to learn:"
   ]
  },
  {
   "cell_type": "code",
   "execution_count": null,
   "metadata": {},
   "outputs": [],
   "source": [
    "X          Feature   Feature   Feature   \n",
    "Example\n",
    "Example\n",
    "Example\n",
    "Example\n",
    "Example\n",
    "Example\n",
    "Example\n",
    "Example\n",
    "\n",
    "(Nb Example, Nb Features)"
   ]
  },
  {
   "cell_type": "code",
   "execution_count": 41,
   "metadata": {
    "ExecuteTime": {
     "end_time": "2021-05-17T11:59:21.689757Z",
     "start_time": "2021-05-17T11:59:21.685888Z"
    }
   },
   "outputs": [
    {
     "name": "stdout",
     "output_type": "stream",
     "text": [
      "[0 1 2 ... 8 9 8]\n",
      "(1797,)\n"
     ]
    }
   ],
   "source": [
    "print(digits.target)\n",
    "print(digits.target.shape)"
   ]
  },
  {
   "cell_type": "code",
   "execution_count": 46,
   "metadata": {
    "ExecuteTime": {
     "end_time": "2021-05-17T12:02:17.266925Z",
     "start_time": "2021-05-17T12:02:17.262392Z"
    }
   },
   "outputs": [
    {
     "name": "stdout",
     "output_type": "stream",
     "text": [
      "(1797, 8, 8)\n",
      "(8, 8)\n",
      "(8,)\n",
      "()\n"
     ]
    }
   ],
   "source": [
    "# 0[\n",
    "# 1    [\n",
    "# 2       ['pixel 1', 'pixel 2', 'pixel 3'],\n",
    "# 3       ['pixel 4', 'pixel 5', 'pixel 6'],\n",
    "# 4       ['pixel 7', 'pixel 8', 'pixel 9'],\n",
    "# 5   ] <- Image 0,\n",
    "# 6   [\n",
    "#         ['pixel 1', 'pixel 2', 'pixel 3'],\n",
    "#         ['pixel 4', 'pixel 5', 'pixel 6'],\n",
    "#         ['pixel 7', 'pixel 8', 'pixel 9'],\n",
    "#     ] <- Image 1\n",
    "# ]\n",
    "print(digits.images.shape)\n",
    "# (2, 3, 3)\n",
    "print(digits.images[0].shape)\n",
    "# (3, 3)\n",
    "print(digits.images[0][0].shape)\n",
    "# (3,)\n",
    "print(digits.images[0][0][0].shape)\n",
    "# ()"
   ]
  },
  {
   "cell_type": "code",
   "execution_count": 40,
   "metadata": {
    "ExecuteTime": {
     "end_time": "2021-05-17T11:59:17.802914Z",
     "start_time": "2021-05-17T11:59:17.798934Z"
    }
   },
   "outputs": [
    {
     "data": {
      "text/plain": [
       "array([[0],\n",
       "       [1],\n",
       "       [2],\n",
       "       ...,\n",
       "       [8],\n",
       "       [9],\n",
       "       [8]])"
      ]
     },
     "execution_count": 40,
     "metadata": {},
     "output_type": "execute_result"
    }
   ],
   "source": [
    "import numpy as np\n",
    "\n",
    "new_target = np.reshape(digits.target, (-1, 1))\n",
    "new_target.shape\n",
    "new_target"
   ]
  },
  {
   "cell_type": "markdown",
   "metadata": {},
   "source": [
    "`digits.images`: The data is always a 2D array, shape (`n_samples`, `n_features`), although the original data may have had a different shape. In the case of the digits, each original sample is an image of shape (8, 8) and can be accessed using:"
   ]
  },
  {
   "cell_type": "code",
   "execution_count": 31,
   "metadata": {
    "ExecuteTime": {
     "end_time": "2021-05-17T10:27:43.236922Z",
     "start_time": "2021-05-17T10:27:43.233637Z"
    }
   },
   "outputs": [
    {
     "data": {
      "text/plain": [
       "(1797, 8, 8)"
      ]
     },
     "execution_count": 31,
     "metadata": {},
     "output_type": "execute_result"
    }
   ],
   "source": [
    "digits.images.shape"
   ]
  },
  {
   "cell_type": "code",
   "execution_count": 41,
   "metadata": {
    "ExecuteTime": {
     "end_time": "2021-05-11T09:35:56.230060Z",
     "start_time": "2021-05-11T09:35:56.224132Z"
    }
   },
   "outputs": [
    {
     "data": {
      "text/plain": [
       "array([[ 0.,  0.,  5., 13.,  9.,  1.,  0.,  0.],\n",
       "       [ 0.,  0., 13., 15., 10., 15.,  5.,  0.],\n",
       "       [ 0.,  3., 15.,  2.,  0., 11.,  8.,  0.],\n",
       "       [ 0.,  4., 12.,  0.,  0.,  8.,  8.,  0.],\n",
       "       [ 0.,  5.,  8.,  0.,  0.,  9.,  8.,  0.],\n",
       "       [ 0.,  4., 11.,  0.,  1., 12.,  7.,  0.],\n",
       "       [ 0.,  2., 14.,  5., 10., 12.,  0.,  0.],\n",
       "       [ 0.,  0.,  6., 13., 10.,  0.,  0.,  0.]])"
      ]
     },
     "execution_count": 41,
     "metadata": {},
     "output_type": "execute_result"
    }
   ],
   "source": [
    "digits.images[0]"
   ]
  },
  {
   "cell_type": "code",
   "execution_count": 42,
   "metadata": {
    "ExecuteTime": {
     "end_time": "2021-05-11T09:35:56.238004Z",
     "start_time": "2021-05-11T09:35:56.232918Z"
    }
   },
   "outputs": [
    {
     "data": {
      "text/plain": [
       "(1797, 8, 8)"
      ]
     },
     "execution_count": 42,
     "metadata": {},
     "output_type": "execute_result"
    }
   ],
   "source": [
    "digits.images.shape"
   ]
  },
  {
   "cell_type": "markdown",
   "metadata": {
    "ExecuteTime": {
     "end_time": "2021-05-10T14:25:05.945025Z",
     "start_time": "2021-05-10T14:25:05.942323Z"
    },
    "heading_collapsed": true
   },
   "source": [
    "### Visualizing the data"
   ]
  },
  {
   "cell_type": "code",
   "execution_count": 43,
   "metadata": {
    "ExecuteTime": {
     "end_time": "2021-05-11T09:36:06.429983Z",
     "start_time": "2021-05-11T09:35:56.239750Z"
    },
    "hidden": true
   },
   "outputs": [
    {
     "data": {
      "image/png": "[encoded data removed]",
      "text/plain": [
       "<Figure size 720x720 with 100 Axes>"
      ]
     },
     "metadata": {
      "needs_background": "light"
     },
     "output_type": "display_data"
    }
   ],
   "source": [
    "import matplotlib.pyplot as plt\n",
    "import numpy as np\n",
    "\n",
    "np.random.seed(2021)\n",
    "\n",
    "grid = digits.images\n",
    "choices = np.random.choice(grid.size, (10, 10), replace=False)\n",
    "grid.ravel()[choices] = 1\n",
    "\n",
    "fig, ax = plt.subplots(10, 10, figsize=(10, 10))\n",
    "for i, a in enumerate(ax.flatten()):\n",
    "    a.imshow(grid[i, :, :], cmap='gray_r',)\n",
    "    a.set_title(f\"slice {i}\")\n",
    "plt.show()"
   ]
  },
  {
   "cell_type": "markdown",
   "metadata": {
    "ExecuteTime": {
     "end_time": "2021-05-10T14:30:03.502704Z",
     "start_time": "2021-05-10T14:30:03.495132Z"
    }
   },
   "source": [
    "## Learning and predicting"
   ]
  },
  {
   "cell_type": "markdown",
   "metadata": {},
   "source": [
    "In the case of the **digits dataset**, the task is to predict, given an image, which digit it represents. We are given samples of each of the **10 possible classes** (the digits zero through nine) on which we **fit an estimator** to be able to predict the classes to which unseen samples belong.\n",
    "\n",
    "\n",
    "In scikit-learn, an estimator for classification is a Python object that implements the methods **fit(X, y)** and **predict(T)**.\n",
    "\n",
    "\n",
    "An example of an estimator is the class sklearn.svm.SVC, which implements support vector classification. The estimator’s constructor takes as arguments the model’s parameters.\n",
    "\n",
    "\n",
    "For now, we will consider the estimator as a black box:"
   ]
  },
  {
   "cell_type": "code",
   "execution_count": 59,
   "metadata": {
    "ExecuteTime": {
     "end_time": "2021-05-17T12:29:01.749120Z",
     "start_time": "2021-05-17T12:29:01.746809Z"
    }
   },
   "outputs": [],
   "source": [
    "from sklearn import svm\n",
    "\n",
    "clf = svm.SVC(gamma=0.001, C=100.)"
   ]
  },
  {
   "cell_type": "markdown",
   "metadata": {},
   "source": [
    "The clf (for classifier) estimator instance is first fitted to the model\n",
    "\n",
    "    that is, it must learn from the model.\n",
    "\n",
    "This is done by passing our training set to the fit method. For the training set, we’ll use all the images from our dataset, except for the last image, which we’ll reserve for our predicting.\n",
    "\n",
    "We select the **training set** with the [:-1] Python syntax, which produces a new array that contains all but the last item from digits.data:"
   ]
  },
  {
   "cell_type": "code",
   "execution_count": 47,
   "metadata": {
    "ExecuteTime": {
     "end_time": "2021-05-17T12:21:22.473344Z",
     "start_time": "2021-05-17T12:21:22.469803Z"
    }
   },
   "outputs": [
    {
     "data": {
      "text/plain": [
       "[0, 1, 2, 3, 4, 5]"
      ]
     },
     "execution_count": 47,
     "metadata": {},
     "output_type": "execute_result"
    }
   ],
   "source": [
    "my_array = [0, 1, 2, 3, 4, 5]\n",
    "my_array"
   ]
  },
  {
   "cell_type": "code",
   "execution_count": 54,
   "metadata": {
    "ExecuteTime": {
     "end_time": "2021-05-17T12:24:00.760068Z",
     "start_time": "2021-05-17T12:24:00.757211Z"
    }
   },
   "outputs": [
    {
     "data": {
      "text/plain": [
       "5"
      ]
     },
     "execution_count": 54,
     "metadata": {},
     "output_type": "execute_result"
    }
   ],
   "source": [
    "my_array[-1]\n",
    "# my_array[1:-2]"
   ]
  },
  {
   "cell_type": "code",
   "execution_count": 62,
   "metadata": {
    "ExecuteTime": {
     "end_time": "2021-05-17T12:29:27.011855Z",
     "start_time": "2021-05-17T12:29:26.951355Z"
    }
   },
   "outputs": [
    {
     "data": {
      "text/plain": [
       "SVC(C=100.0, gamma=0.001)"
      ]
     },
     "execution_count": 62,
     "metadata": {},
     "output_type": "execute_result"
    }
   ],
   "source": [
    "# fit(X, y)\n",
    "clf.fit(digits.data[:-1], digits.target[:-1])"
   ]
  },
  {
   "cell_type": "markdown",
   "metadata": {},
   "source": [
    "Now you can **predict new values**.\n",
    "\n",
    "In this case, you’ll predict using the last image from digits.data.\n",
    "\n",
    "By predicting, you’ll determine the image from the training set that best matches the last image."
   ]
  },
  {
   "cell_type": "code",
   "execution_count": 46,
   "metadata": {
    "ExecuteTime": {
     "end_time": "2021-05-11T09:36:06.681659Z",
     "start_time": "2021-05-11T09:36:06.676847Z"
    }
   },
   "outputs": [
    {
     "name": "stdout",
     "output_type": "stream",
     "text": [
      "[8]\n"
     ]
    }
   ],
   "source": [
    "print(clf.predict(digits.data[-1:]))"
   ]
  },
  {
   "cell_type": "markdown",
   "metadata": {},
   "source": [
    "The corresponding image is:"
   ]
  },
  {
   "cell_type": "code",
   "execution_count": 47,
   "metadata": {
    "ExecuteTime": {
     "end_time": "2021-05-11T09:36:06.886718Z",
     "start_time": "2021-05-11T09:36:06.684180Z"
    }
   },
   "outputs": [
    {
     "data": {
      "text/plain": [
       "<matplotlib.image.AxesImage at 0x7f110aa77940>"
      ]
     },
     "execution_count": 47,
     "metadata": {},
     "output_type": "execute_result"
    },
    {
     "data": {
      "image/png": "[encoded data removed]",
      "text/plain": [
       "<Figure size 432x288 with 1 Axes>"
      ]
     },
     "metadata": {
      "needs_background": "light"
     },
     "output_type": "display_data"
    }
   ],
   "source": [
    "import matplotlib.pyplot as plt\n",
    "\n",
    "plt.imshow(digits.images[-1], cmap='gray_r',)"
   ]
  },
  {
   "cell_type": "markdown",
   "metadata": {},
   "source": [
    "It's a challenging task.\n",
    "\n",
    "Do you agree with the classifier ?"
   ]
  },
  {
   "cell_type": "markdown",
   "metadata": {},
   "source": [
    "# Regression Trees"
   ]
  },
  {
   "cell_type": "code",
   "execution_count": 63,
   "metadata": {
    "ExecuteTime": {
     "end_time": "2021-05-17T12:38:46.508284Z",
     "start_time": "2021-05-17T12:38:46.434031Z"
    }
   },
   "outputs": [
    {
     "name": "stdout",
     "output_type": "stream",
     "text": [
      "DecisionTreeClassifier()\n",
      "              precision    recall  f1-score   support\n",
      "\n",
      "           0       1.00      1.00      1.00        50\n",
      "           1       1.00      1.00      1.00        50\n",
      "           2       1.00      1.00      1.00        50\n",
      "\n",
      "    accuracy                           1.00       150\n",
      "   macro avg       1.00      1.00      1.00       150\n",
      "weighted avg       1.00      1.00      1.00       150\n",
      "\n",
      "[[50  0  0]\n",
      " [ 0 50  0]\n",
      " [ 0  0 50]]\n"
     ]
    }
   ],
   "source": [
    "# Sample Decision Tree Classifier\n",
    "from sklearn import datasets\n",
    "from sklearn import metrics\n",
    "from sklearn.tree import DecisionTreeClassifier\n",
    "# load the iris datasets\n",
    "dataset = datasets.load_iris()\n",
    "# fit a CART model to the data\n",
    "model = DecisionTreeClassifier()\n",
    "model.fit(dataset.data, dataset.target)\n",
    "print(model)\n",
    "# make predictions\n",
    "predicted = model.predict(dataset.data)\n",
    "# summarize the fit of the model\n",
    "expected = dataset.target\n",
    "print(metrics.classification_report(expected, predicted))\n",
    "print(metrics.confusion_matrix(expected, predicted))"
   ]
  },
  {
   "cell_type": "code",
   "execution_count": 64,
   "metadata": {
    "ExecuteTime": {
     "end_time": "2021-05-17T12:49:23.570804Z",
     "start_time": "2021-05-17T12:49:23.567914Z"
    }
   },
   "outputs": [
    {
     "data": {
      "text/plain": [
       "dict_keys(['data', 'target', 'frame', 'target_names', 'DESCR', 'feature_names', 'filename'])"
      ]
     },
     "execution_count": 64,
     "metadata": {},
     "output_type": "execute_result"
    }
   ],
   "source": [
    "dataset.keys()"
   ]
  },
  {
   "cell_type": "markdown",
   "metadata": {},
   "source": [
    "format_string"
   ]
  },
  {
   "cell_type": "code",
   "execution_count": 67,
   "metadata": {
    "ExecuteTime": {
     "end_time": "2021-05-17T13:02:52.759069Z",
     "start_time": "2021-05-17T13:02:52.756311Z"
    }
   },
   "outputs": [
    {
     "name": "stdout",
     "output_type": "stream",
     "text": [
      "target_names: ['setosa' 'versicolor' 'virginica']\n",
      "feature_names: ['sepal length (cm)', 'sepal width (cm)', 'petal length (cm)', 'petal width (cm)']\n"
     ]
    }
   ],
   "source": [
    "print(f\"target_names: {dataset['target_names']}\") \n",
    "print(f\"feature_names: {dataset['feature_names']}\") "
   ]
  },
  {
   "cell_type": "markdown",
   "metadata": {},
   "source": [
    "# Documentation\n",
    "\n",
    "https://scikit-learn.org/stable/tutorial/basic/tutorial.html\n",
    "\n",
    "http://scikit-learn.org/stable/user_guide.html\n"
   ]
  }
 ],
 "metadata": {
  "kernelspec": {
   "display_name": "Python 3",
   "language": "python",
   "name": "python3"
  },
  "language_info": {
   "codemirror_mode": {
    "name": "ipython",
    "version": 3
   },
   "file_extension": ".py",
   "mimetype": "text/x-python",
   "name": "python",
   "nbconvert_exporter": "python",
   "pygments_lexer": "ipython3",
   "version": "3.8.5"
  },
  "toc": {
   "base_numbering": 1,
   "nav_menu": {},
   "number_sections": true,
   "sideBar": true,
   "skip_h1_title": false,
   "title_cell": "Table of Contents",
   "title_sidebar": "Contents",
   "toc_cell": false,
   "toc_position": {},
   "toc_section_display": true,
   "toc_window_display": false
  },
  "varInspector": {
   "cols": {
    "lenName": 16,
    "lenType": 16,
    "lenVar": 40
   },
   "kernels_config": {
    "python": {
     "delete_cmd_postfix": "",
     "delete_cmd_prefix": "del ",
     "library": "var_list.py",
     "varRefreshCmd": "print(var_dic_list())"
    },
    "r": {
     "delete_cmd_postfix": ") ",
     "delete_cmd_prefix": "rm(",
     "library": "var_list.r",
     "varRefreshCmd": "cat(var_dic_list()) "
    }
   },
   "types_to_exclude": [
    "module",
    "function",
    "builtin_function_or_method",
    "instance",
    "_Feature"
   ],
   "window_display": false
  }
 },
 "nbformat": 4,
 "nbformat_minor": 2
}
