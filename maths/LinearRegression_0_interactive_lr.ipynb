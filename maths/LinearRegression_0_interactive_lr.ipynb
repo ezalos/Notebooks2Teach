{
 "cells": [
  {
   "cell_type": "markdown",
   "metadata": {},
   "source": [
    "# Linear Regression\n",
    "\n",
    "<!-- ![Linear regression image](https://production-media.paperswithcode.com/methods/2560px-Linear_regression.svg_wwqz1f3.png) -->\n",
    "\n",
    "![Linear Regression](../data/linear_regression.png)\n",
    "\n",
    "![ML System](../data/ML_System.png)\n",
    "\n",
    "\n",
    "\n",
    "https://github.com/42-AI/bootcamp_machine-learning"
   ]
  },
  {
   "cell_type": "code",
   "execution_count": 117,
   "metadata": {},
   "outputs": [
    {
     "name": "stdout",
     "output_type": "stream",
     "text": [
      "x.shape = (100,)\n",
      "y.shape = (100,)\n",
      "COEF_A = 1.743506431806346\n",
      "COEF_B = 1.9325667208084556\n"
     ]
    }
   ],
   "source": [
    "import numpy as np\n",
    "import matplotlib.pyplot as plt\n",
    "import random\n",
    "from ipywidgets import interact, widgets\n",
    "\n",
    "# %matplotlib notebook\n",
    "# %matplotlib widget\n",
    "%matplotlib inline\n",
    "\n",
    "\n",
    "MIN_VALUE = 0\n",
    "MAX_VALUE = 1\n",
    "NB_ELEMENTS = 100\n",
    "\n",
    "x = np.linspace(MIN_VALUE, MAX_VALUE, NB_ELEMENTS)\n",
    "COEF_A_MIN = 0\n",
    "COEF_A_MAX = 5\n",
    "\n",
    "COEF_B_MIN = 0\n",
    "COEF_B_MAX = 5\n",
    "\n",
    "COEF_DELTA_A = ((COEF_A_MAX) - (COEF_A_MIN)) * (1/3)\n",
    "COEF_DELTA_B = ((COEF_B_MAX) - (COEF_B_MIN)) * (1/3)\n",
    "\n",
    "COEF_A = (random.random() * (COEF_DELTA_A)) + COEF_A_MIN + COEF_DELTA_A\n",
    "COEF_B = (random.random() * (COEF_DELTA_B)) + COEF_B_MIN + COEF_DELTA_B\n",
    "random_noise = np.random.random(NB_ELEMENTS) * MAX_VALUE * 2\n",
    "random_noise -= random_noise.mean()\n",
    "# y = (a * x) + b\n",
    "# plt.scatter(x, y)\n",
    "y = (COEF_A * x) + COEF_B + random_noise\n",
    "\n",
    "print(f\"{x.shape = }\")\n",
    "print(f\"{y.shape = }\")\n",
    "print(f\"{COEF_A = }\")\n",
    "print(f\"{COEF_B = }\")"
   ]
  },
  {
   "cell_type": "code",
   "execution_count": 118,
   "metadata": {},
   "outputs": [
    {
     "data": {
      "text/plain": [
       "<matplotlib.collections.PathCollection at 0x776b28928f10>"
      ]
     },
     "execution_count": 118,
     "metadata": {},
     "output_type": "execute_result"
    },
    {
     "data": {
      "image/png": "[encoded data removed]",
      "text/plain": [
       "<Figure size 640x480 with 1 Axes>"
      ]
     },
     "metadata": {},
     "output_type": "display_data"
    }
   ],
   "source": [
    "plt.scatter(x, y)"
   ]
  },
  {
   "cell_type": "markdown",
   "metadata": {},
   "source": [
    "# Data\n",
    "\n",
    "$m$ is the number of examples\n",
    "\n",
    "$n$ is the number of dimensions / features\n",
    "\n",
    "# X can have multiple features\n",
    "\n",
    "$$\n",
    "X^{(m)}_n\n",
    "$$\n",
    "\n",
    "# Y only has one dimension\n",
    "\n",
    "$$\n",
    "Y^{(m)}\n",
    "$$"
   ]
  },
  {
   "cell_type": "code",
   "execution_count": 77,
   "metadata": {},
   "outputs": [],
   "source": [
    "def predict(x, thetas):\n",
    "    a, b = thetas\n",
    "    y_hat = a * x + b\n",
    "    return y_hat\n",
    "\n",
    "\n",
    "def get_cost(y, y_hat):\n",
    "    return ((y - y_hat) ** 2).sum()"
   ]
  },
  {
   "cell_type": "code",
   "execution_count": 126,
   "metadata": {},
   "outputs": [
    {
     "name": "stdout",
     "output_type": "stream",
     "text": [
      "MIN_COST = 33.248019488885255\n",
      "MAX_COST = 2323.8551267417556\n"
     ]
    }
   ],
   "source": [
    "costs = []\n",
    "for a in np.linspace(COEF_A_MIN, COEF_A_MAX, 50):\n",
    "    for b in np.linspace(COEF_B_MIN, COEF_B_MAX, 50):\n",
    "        thetas = np.array((a, b))\n",
    "        cost = get_cost(y, predict(x, thetas))\n",
    "        costs.append((a, b, cost))\n",
    "\n",
    "MIN_COST = min(costs, key=lambda x: x[2])[2]\n",
    "MAX_COST = max(costs, key=lambda x: x[2])[2]\n",
    "print(f\"{MIN_COST = }\")\n",
    "print(f\"{MAX_COST = }\")\n",
    "\n",
    "WORST_A_PARAM = max(costs, key=lambda x: x[2])[0]\n",
    "WORST_B_PARAM = max(costs, key=lambda x: x[2])[1]"
   ]
  },
  {
   "cell_type": "markdown",
   "metadata": {},
   "source": [
    "# Predict\n",
    "\n",
    "A simple formula:\n",
    "$$\n",
    "\\hat{y} = ax + b\n",
    "$$\n",
    "\n",
    "That we can genralize to multiple dimensions with Thetas:\n",
    "$$\n",
    "\\hat{y} = θ_0 \\cdot x + θ_1\n",
    "$$\n",
    "\n",
    "# Cost\n",
    "\n",
    "For each prediction we will measure the difference between the prediction and the true value\n",
    "$$\n",
    "\\text{Cost}^{(i)} = (\\hat{y}^{(i)} - y^{(i)})\n",
    "$$\n",
    "\n",
    "And we will apply it to our complete dataset and keep the mean\n",
    "\n",
    "$$\n",
    "\\text{Cost} = \\frac{\\sum_{i=0}^{m}{(\\hat{y}^{(i)} - y^{(i)})}}{m}\n",
    "$$"
   ]
  },
  {
   "cell_type": "code",
   "execution_count": 127,
   "metadata": {},
   "outputs": [
    {
     "data": {
      "application/vnd.jupyter.widget-view+json": {
       "model_id": "98a34567a05145f2aec4b83f71d5c88d",
       "version_major": 2,
       "version_minor": 0
      },
      "text/plain": [
       "interactive(children=(FloatSlider(value=5.0, description='a', max=5.0), FloatSlider(value=5.0, description='b'…"
      ]
     },
     "metadata": {},
     "output_type": "display_data"
    }
   ],
   "source": [
    "def plot_linear_regression_with_error(\n",
    "    x, y, thetas, show_errors=False, min_error=0, max_error=10000\n",
    "):\n",
    "    fig, (ax1, ax2) = plt.subplots(\n",
    "        1, 2, figsize=(15, 5), gridspec_kw={\"width_ratios\": [3, 1]}\n",
    "    )\n",
    "\n",
    "    # Linear regression plot\n",
    "    ax1.scatter(x, y, c=\"b\", label=\"Data\")\n",
    "    y_hat = predict(x, thetas)\n",
    "    error = get_cost(y, y_hat)\n",
    "    ax1.plot(x, y_hat, c=\"r\", label=\"Linear Regression\")\n",
    "    if show_errors:\n",
    "        for x_element, y_element, y_hat_element in zip(x, y, y_hat):\n",
    "            ax1.plot((x_element, x_element), (y_element, y_hat_element), \":y\")\n",
    "    ax1.set_ylim(0, (COEF_A * COEF_DELTA_A) + COEF_B + 1)\n",
    "    ax1.set_xlabel(\"X\")\n",
    "    ax1.set_ylabel(\"Y\")\n",
    "    ax1.set_title(\"Linear Regression\")\n",
    "\n",
    "    # Vertical error bar plot\n",
    "    ax2.bar([\"Error\"], [error], color=\"y\")\n",
    "    ax2.set_ylim(0, max_error)\n",
    "    ax2.set_ylabel(\"Error Value\")\n",
    "    ax2.set_title(\"Error\")\n",
    "\n",
    "    ax1.legend()\n",
    "\n",
    "    # plt.tight_layout()\n",
    "    # plt.show()\n",
    "\n",
    "    return error\n",
    "\n",
    "\n",
    "# Initial random values for a and b\n",
    "a = (random.random() - COEF_A_MIN) * COEF_A_MAX\n",
    "b = (random.random() - COEF_B_MIN) * COEF_B_MAX\n",
    "thetas = np.array((a, b))\n",
    "\n",
    "@interact(\n",
    "    a=widgets.FloatSlider(\n",
    "        min=COEF_A_MIN,\n",
    "        max=COEF_A_MAX,\n",
    "        value=WORST_A_PARAM,\n",
    "        # value=(COEF_A_MIN + COEF_A_MAX) / 2,\n",
    "    ),\n",
    "    b=widgets.FloatSlider(\n",
    "        min=COEF_B_MIN, \n",
    "        max=COEF_B_MAX, \n",
    "        value=WORST_B_PARAM, \n",
    "        # value=(COEF_B_MIN + COEF_B_MAX) / 2\n",
    "    ),\n",
    "    show_errors=widgets.Checkbox(value=False, description=\"Show errors\"),\n",
    ")\n",
    "def interactive_linear_regression(a, b, show_errors):\n",
    "    thetas = np.array((a, b))\n",
    "    error = plot_linear_regression_with_error(\n",
    "        x, y, thetas, show_errors=show_errors, min_error=MIN_COST, max_error=MAX_COST\n",
    "    )\n",
    "    print(f\"Linear regression:\")\n",
    "    print(f\"\")\n",
    "    print(f\"    thetas = {thetas}\")\n",
    "    print(f\"    error = {error}\")\n",
    "\n",
    "\n",
    "# print(f\"{thetas = }\")\n",
    "# cost = plot_linear_regression_2D(x, y, thetas, show_errors=True)\n",
    "# cost"
   ]
  },
  {
   "cell_type": "code",
   "execution_count": 80,
   "metadata": {},
   "outputs": [],
   "source": [
    "import pickle\n",
    "\n",
    "with open(\"Teach_linear_regression.pkl\", \"wb\") as f:\n",
    "    pickle.dump((\n",
    "        x, y, COEF_A, COEF_B,\n",
    "        COEF_A_MIN, COEF_A_MAX,\n",
    "        COEF_B_MIN, COEF_B_MAX,\n",
    "        WORST_A_PARAM, WORST_B_PARAM,\n",
    "        MIN_COST, MAX_COST,\n",
    "        MIN_VALUE, MAX_VALUE, NB_ELEMENTS,\n",
    "    ), f)\n"
   ]
  }
 ],
 "metadata": {
  "kernelspec": {
   "display_name": "venv",
   "language": "python",
   "name": "python3"
  },
  "language_info": {
   "codemirror_mode": {
    "name": "ipython",
    "version": 3
   },
   "file_extension": ".py",
   "mimetype": "text/x-python",
   "name": "python",
   "nbconvert_exporter": "python",
   "pygments_lexer": "ipython3",
   "version": "3.9.13"
  }
 },
 "nbformat": 4,
 "nbformat_minor": 2
}
