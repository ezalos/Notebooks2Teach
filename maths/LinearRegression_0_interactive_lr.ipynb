{
 "cells": [
  {
   "cell_type": "markdown",
   "metadata": {},
   "source": [
    "# Linear Regression\n"
   ]
  },
  {
   "cell_type": "markdown",
   "metadata": {},
   "source": [
    "# Setup"
   ]
  },
  {
   "cell_type": "code",
   "execution_count": 1,
   "metadata": {},
   "outputs": [
    {
     "name": "stdout",
     "output_type": "stream",
     "text": [
      "x.shape = (100,)\n",
      "y.shape = (100,)\n",
      "COEF_A = 2.7684667311238043\n",
      "COEF_B = 3.073489251946131\n"
     ]
    }
   ],
   "source": [
    "import numpy as np\n",
    "import matplotlib.pyplot as plt\n",
    "import random\n",
    "from ipywidgets import interact, widgets\n",
    "\n",
    "# %matplotlib notebook\n",
    "# %matplotlib widget\n",
    "# %matplotlib inline\n",
    "\n",
    "\n",
    "MIN_VALUE = 0\n",
    "MAX_VALUE = 1\n",
    "NB_ELEMENTS = 100\n",
    "\n",
    "x = np.linspace(MIN_VALUE, MAX_VALUE, NB_ELEMENTS)\n",
    "COEF_A_MIN = 0\n",
    "COEF_A_MAX = 5\n",
    "\n",
    "COEF_B_MIN = 0\n",
    "COEF_B_MAX = 5\n",
    "\n",
    "COEF_DELTA_A = ((COEF_A_MAX) - (COEF_A_MIN)) * (1/3)\n",
    "COEF_DELTA_B = ((COEF_B_MAX) - (COEF_B_MIN)) * (1/3)\n",
    "\n",
    "COEF_A = (random.random() * (COEF_DELTA_A)) + COEF_A_MIN + COEF_DELTA_A\n",
    "COEF_B = (random.random() * (COEF_DELTA_B)) + COEF_B_MIN + COEF_DELTA_B\n",
    "random_noise = np.random.random(NB_ELEMENTS) * MAX_VALUE * 2\n",
    "random_noise -= random_noise.mean()\n",
    "# y = (a * x) + b\n",
    "# plt.scatter(x, y)\n",
    "y = (COEF_A * x) + COEF_B + random_noise\n",
    "\n",
    "\n",
    "# Sample 10 random points uniformly between 0 and 1\n",
    "X_TEST = np.random.uniform(MIN_VALUE, MAX_VALUE, 10)\n",
    "\n",
    "print(f\"{x.shape = }\")\n",
    "print(f\"{y.shape = }\")\n",
    "print(f\"{COEF_A = }\")\n",
    "print(f\"{COEF_B = }\")"
   ]
  },
  {
   "cell_type": "code",
   "execution_count": 2,
   "metadata": {},
   "outputs": [],
   "source": [
    "def predict(x, thetas):\n",
    "    a, b = thetas\n",
    "    y_hat = a * x + b\n",
    "    return y_hat\n",
    "\n",
    "\n",
    "def get_cost(y, y_hat):\n",
    "    return ((y - y_hat) ** 2).sum()"
   ]
  },
  {
   "cell_type": "code",
   "execution_count": 3,
   "metadata": {},
   "outputs": [
    {
     "name": "stdout",
     "output_type": "stream",
     "text": [
      "MIN_COST = 36.68145957550139\n",
      "MAX_COST = 2091.299026034984\n"
     ]
    }
   ],
   "source": [
    "costs = []\n",
    "for a in np.linspace(COEF_A_MIN, COEF_A_MAX, 50):\n",
    "    for b in np.linspace(COEF_B_MIN, COEF_B_MAX, 50):\n",
    "        thetas = np.array((a, b))\n",
    "        cost = get_cost(y, predict(x, thetas))\n",
    "        costs.append((a, b, cost))\n",
    "\n",
    "MIN_COST = min(costs, key=lambda x: x[2])[2]\n",
    "MAX_COST = max(costs, key=lambda x: x[2])[2]\n",
    "print(f\"{MIN_COST = }\")\n",
    "print(f\"{MAX_COST = }\")\n",
    "\n",
    "WORST_A_PARAM = max(costs, key=lambda x: x[2])[0]\n",
    "WORST_B_PARAM = max(costs, key=lambda x: x[2])[1]"
   ]
  },
  {
   "cell_type": "code",
   "execution_count": 4,
   "metadata": {},
   "outputs": [],
   "source": [
    "def plot_1_the_data_story(x, y, test_x):\n",
    "    plt.scatter(x, y, label=\"All the sold sculptures from previous auctions\")\n",
    "    plt.title(\"Auction price by weight\")\n",
    "    plt.xlabel(\"X : Weight (kg)\")\n",
    "    plt.ylabel(\"Y : Price (10k$)\")\n",
    "\n",
    "    # Plot vertical lines at each sample point\n",
    "    for i, point in enumerate(test_x):\n",
    "        if i == 0:\n",
    "            plt.axvline(\n",
    "                x=point,\n",
    "                ymin=-0.05,\n",
    "                ymax=0.05,\n",
    "                color=\"orange\",\n",
    "                linestyle=\"-\",\n",
    "                label=f\"Sculptures to be sold at the next auction\",\n",
    "            )\n",
    "        else:\n",
    "            plt.axvline(x=point, ymin=-0.05, ymax=0.05, color=\"orange\", linestyle=\"-\")\n",
    "\n",
    "    plt.legend()\n",
    "\n",
    "\n",
    "def plot_2_linear_regression(\n",
    "    x, y, thetas, X_TEST, show_predictions=False\n",
    "):\n",
    "    fig, (ax1) = plt.subplots(\n",
    "        1, 1, figsize=(12, 6)\n",
    "    )\n",
    "\n",
    "    # Linear regression plot\n",
    "    ax1.scatter(x, y, c=\"b\", label=\"Data\")\n",
    "    y_hat = predict(x, thetas)\n",
    "    # error = get_cost(y, y_hat)\n",
    "    ax1.plot(x, y_hat, c=\"r\", label=\"Linear Regression\")\n",
    "    ax1.set_ylim(0, (COEF_A * COEF_DELTA_A) + COEF_B + 1)\n",
    "    ax1.set_xlabel(\"X : Weight (kg)\")\n",
    "    ax1.set_ylabel(\"Y : Price (10k$)\")\n",
    "    ax1.set_title(\"Linear Regression\")\n",
    "\n",
    "    if show_predictions:\n",
    "        y_hat_test = predict(X_TEST, thetas)\n",
    "\n",
    "        for test_x_i, test_y_hat_i in zip(X_TEST, y_hat_test):\n",
    "            ax1.plot(\n",
    "                (test_x_i, test_x_i),\n",
    "                (0, test_y_hat_i),\n",
    "                color=\"gray\",\n",
    "                alpha=0.5,\n",
    "                # linestyle=\":\",\n",
    "            )\n",
    "            ax1.plot(\n",
    "                (0, test_x_i),\n",
    "                (test_y_hat_i, test_y_hat_i),\n",
    "                color=\"gray\",\n",
    "                alpha=0.5,\n",
    "                # linestyle=\":\",\n",
    "            )\n",
    "\n",
    "    # Plot vertical lines at each sample point\n",
    "    for i, point in enumerate(X_TEST):\n",
    "        if i == 0:\n",
    "            ax1.axvline(\n",
    "                x=point,\n",
    "                ymin=-0.05,\n",
    "                ymax=0.05,\n",
    "                color=\"orange\",\n",
    "                linestyle=\"-\",\n",
    "                label=f\"Sculptures to be sold at the next auction\",\n",
    "            )\n",
    "        else:\n",
    "            ax1.axvline(x=point, ymin=-0.05, ymax=0.05, color=\"orange\", linestyle=\"-\")\n",
    "\n",
    "    ax1.legend()\n",
    "\n",
    "\n",
    "def plot_3_linear_regression_with_error(\n",
    "    x, y, thetas, show_errors=False, min_error=0, max_error=10000, show_cost=False\n",
    "):\n",
    "    fig, (ax1, ax2) = plt.subplots(\n",
    "        1, 2, figsize=(16, 6), gridspec_kw={\"width_ratios\": [3, 1]}\n",
    "    )\n",
    "\n",
    "    # Linear regression plot\n",
    "    ax1.scatter(x, y, c=\"b\", label=\"Data\")\n",
    "    y_hat = predict(x, thetas)\n",
    "    error = get_cost(y, y_hat)\n",
    "    ax1.plot(x, y_hat, c=\"r\", label=\"Linear Regression\")\n",
    "    if show_errors:\n",
    "        for x_element, y_element, y_hat_element in zip(x, y, y_hat):\n",
    "            ax1.plot((x_element, x_element), (y_element, y_hat_element), \":y\")\n",
    "    ax1.set_ylim(0, (COEF_A * COEF_DELTA_A) + COEF_B + 1)\n",
    "    ax1.set_xlabel(\"X\")\n",
    "    ax1.set_ylabel(\"Y\")\n",
    "    ax1.set_title(\"Linear Regression\")\n",
    "\n",
    "    if show_cost:\n",
    "        # Vertical error bar plot\n",
    "        ax2.bar([\"Error\"], [error], color=\"y\")\n",
    "        ax2.set_ylim(0, max_error)\n",
    "        ax2.set_ylabel(\"Error Value\")\n",
    "        ax2.set_title(\"Error\")\n",
    "\n",
    "    ax1.legend()\n",
    "\n",
    "    return error"
   ]
  },
  {
   "cell_type": "markdown",
   "metadata": {},
   "source": [
    "## Side"
   ]
  },
  {
   "cell_type": "markdown",
   "metadata": {},
   "source": [
    "\n",
    "<!-- ![Linear regression image](https://production-media.paperswithcode.com/methods/2560px-Linear_regression.svg_wwqz1f3.png) -->\n",
    "\n",
    "![Linear Regression](./data/linear_regression.png)\n",
    "\n",
    "![ML System](./data/ML_System.png)\n",
    "\n",
    "\n",
    "\n",
    "https://github.com/42-AI/bootcamp_machine-learning"
   ]
  },
  {
   "cell_type": "markdown",
   "metadata": {},
   "source": [
    "## Data\n",
    "\n",
    "### X can have multiple features\n",
    "\n",
    "$$\n",
    "X^{(m)}_n\n",
    "$$\n",
    "\n",
    "### Y only has one dimension\n",
    "\n",
    "$$\n",
    "Y^{(m)}\n",
    "$$\n",
    "\n",
    "\n",
    "$m$ is the number of examples\n",
    "\n",
    "$n$ is the number of dimensions / features"
   ]
  },
  {
   "cell_type": "markdown",
   "metadata": {},
   "source": [
    "## Predict\n",
    "\n",
    "A simple formula:\n",
    "$$\n",
    "\\hat{y} = ax + b\n",
    "$$\n",
    "\n",
    "That we can genralize to multiple dimensions with Thetas:\n",
    "$$\n",
    "\\hat{y} = θ_0 \\cdot x + θ_1\n",
    "$$\n",
    "\n",
    "## Cost\n",
    "\n",
    "For each prediction we will measure the difference between the prediction and the true value\n",
    "$$\n",
    "\\text{Cost}^{(i)} = abs(\\hat{y}^{(i)} - y^{(i)})\n",
    "$$\n",
    "\n",
    "And we will apply it to our complete dataset and keep the mean\n",
    "\n",
    "$$\n",
    "\\text{Cost} = \\frac{\\sum_{i=0}^{m}{abs(\\hat{y}^{(i)} - y^{(i)})}}{m}\n",
    "$$"
   ]
  },
  {
   "cell_type": "markdown",
   "metadata": {},
   "source": [
    "# Teach"
   ]
  },
  {
   "cell_type": "markdown",
   "metadata": {},
   "source": [
    "An Auction house just called you : \n",
    "\n",
    "their auctioneer just left them, with only 24 hours before the biggest auction of the year !\n",
    "\n",
    "You must help them !\n",
    "\n",
    "\n",
    "\n",
    "\tYou have a dataset of the price by items of previous auctions in function of their weight.\n",
    "\tCan you help them estimate the price of the current items in the auction ?\n"
   ]
  },
  {
   "cell_type": "code",
   "execution_count": 5,
   "metadata": {},
   "outputs": [
    {
     "data": {
      "image/png": "[encoded data removed]",
      "text/plain": [
       "<Figure size 640x480 with 1 Axes>"
      ]
     },
     "metadata": {},
     "output_type": "display_data"
    }
   ],
   "source": [
    "plot_1_the_data_story(x, y, X_TEST)"
   ]
  },
  {
   "cell_type": "markdown",
   "metadata": {},
   "source": [
    "We could use a line to get en estimation !"
   ]
  },
  {
   "cell_type": "code",
   "execution_count": 6,
   "metadata": {},
   "outputs": [
    {
     "data": {
      "application/vnd.jupyter.widget-view+json": {
       "model_id": "e9b1ec24bc0d41c5ba1964f5d8820ce7",
       "version_major": 2,
       "version_minor": 0
      },
      "text/plain": [
       "interactive(children=(FloatSlider(value=0.0, description='a', max=5.0), FloatSlider(value=0.0, description='b'…"
      ]
     },
     "metadata": {},
     "output_type": "display_data"
    }
   ],
   "source": [
    "global a, b\n",
    "@interact(\n",
    "    a=widgets.FloatSlider(\n",
    "        min=COEF_A_MIN, max=COEF_A_MAX, value=WORST_A_PARAM,\n",
    "    ),\n",
    "    b=widgets.FloatSlider(\n",
    "        min=COEF_B_MIN, max=COEF_B_MAX, value=WORST_B_PARAM,\n",
    "    ),\n",
    "    show_predictions=widgets.Checkbox(value=False, description=\"Show predictions\"),\n",
    ")\n",
    "def interactive_linear_regression(a, b, show_predictions):\n",
    "    thetas = np.array((a, b))\n",
    "    plot_2_linear_regression(x, y, thetas, X_TEST, show_predictions=show_predictions)\n",
    "    print(f\"Linear regression:\")\n",
    "    print(f\"\")\n",
    "    print(f\"    thetas = {thetas}\")\n",
    "    print(f\"    Sum(predicted prices) = {sum(predict(X_TEST, thetas)):.1f}k $\")"
   ]
  },
  {
   "cell_type": "markdown",
   "metadata": {},
   "source": [
    "# Predict\n",
    "\n",
    "$$\n",
    "\\hat{y} = ax + b\n",
    "$$"
   ]
  },
  {
   "cell_type": "markdown",
   "metadata": {},
   "source": [
    "But, how can we know if our line is the best possible ?\n",
    "\n",
    "It could impact hundreds of dollars of variations !"
   ]
  },
  {
   "cell_type": "code",
   "execution_count": 7,
   "metadata": {},
   "outputs": [
    {
     "data": {
      "application/vnd.jupyter.widget-view+json": {
       "model_id": "56988bc9147441d192fcafb4623eb5e6",
       "version_major": 2,
       "version_minor": 0
      },
      "text/plain": [
       "interactive(children=(FloatSlider(value=5.0, description='a', max=5.0), FloatSlider(value=5.0, description='b'…"
      ]
     },
     "metadata": {},
     "output_type": "display_data"
    }
   ],
   "source": [
    "@interact(\n",
    "    a=widgets.FloatSlider(\n",
    "        min=COEF_A_MIN, max=COEF_A_MAX, value=a,\n",
    "    ),\n",
    "    b=widgets.FloatSlider(\n",
    "        min=COEF_B_MIN, max=COEF_B_MAX, value=b,\n",
    "    ),\n",
    "    show_errors=widgets.Checkbox(value=False, description=\"Show errors\"),\n",
    ")\n",
    "def interactive_linear_regression(a, b, show_errors):\n",
    "    thetas = np.array((a, b))\n",
    "    error = plot_3_linear_regression_with_error(\n",
    "        x,\n",
    "        y,\n",
    "        thetas,\n",
    "        show_errors=show_errors,\n",
    "        min_error=MIN_COST,\n",
    "        max_error=MAX_COST,\n",
    "        show_cost=show_errors,\n",
    "    )\n",
    "    print(f\"Linear regression:\")\n",
    "    print(f\"\")\n",
    "    print(f\"    thetas = {thetas}\")\n",
    "    print(f\"    error = {error}\")"
   ]
  },
  {
   "cell_type": "markdown",
   "metadata": {},
   "source": [
    "# Cost\n",
    "\n",
    "For each prediction we will measure the difference between the prediction and the true value\n",
    "$$\n",
    "\\text{Cost} = \\sum_{i=0}^{m}{(\\hat{y}^{(i)} - y^{(i)})^2}\n",
    "$$"
   ]
  },
  {
   "cell_type": "code",
   "execution_count": 8,
   "metadata": {},
   "outputs": [],
   "source": [
    "import pickle\n",
    "\n",
    "with open(\"Teach_linear_regression.pkl\", \"wb\") as f:\n",
    "    pickle.dump((\n",
    "        x, y, COEF_A, COEF_B,\n",
    "        COEF_A_MIN, COEF_A_MAX,\n",
    "        COEF_B_MIN, COEF_B_MAX,\n",
    "        WORST_A_PARAM, WORST_B_PARAM,\n",
    "        MIN_COST, MAX_COST,\n",
    "        MIN_VALUE, MAX_VALUE, NB_ELEMENTS,\n",
    "    ), f)\n"
   ]
  }
 ],
 "metadata": {
  "kernelspec": {
   "display_name": "venv",
   "language": "python",
   "name": "python3"
  },
  "language_info": {
   "codemirror_mode": {
    "name": "ipython",
    "version": 3
   },
   "file_extension": ".py",
   "mimetype": "text/x-python",
   "name": "python",
   "nbconvert_exporter": "python",
   "pygments_lexer": "ipython3",
   "version": "3.9.13"
  }
 },
 "nbformat": 4,
 "nbformat_minor": 2
}
