{
 "cells": [
  {
   "cell_type": "markdown",
   "metadata": {},
   "source": [
    "# PyTorch vs TensorFlow: \n",
    "\n",
    "Why PyTorch is generally your best option ?\n",
    "\n",
    "## Open source models\n",
    "\n",
    "![](https://www.assemblyai.com/blog/content/images/2023/01/num_hf_models_2023.png)\n",
    "![](https://www.assemblyai.com/blog/content/images/2023/01/num_top_models_2023.png)\n",
    "\n",
    "## Research papers\n",
    "\n",
    "![](https://www.assemblyai.com/blog/content/images/2021/12/Fraction-of-Papers-Using-PyTorch-vs.-TensorFlow.png)\n",
    "\n",
    "## Papers with code\n",
    "\n",
    "![](https://www.assemblyai.com/blog/content/images/2023/01/percentage_repo_2023.png)\n",
    "\n",
    "## Exception\n",
    "\n",
    "If you do on-edge computing (phones for example) TensorFlow or ONNX have a better  deployment toolkit"
   ]
  }
 ],
 "metadata": {
  "language_info": {
   "name": "python"
  }
 },
 "nbformat": 4,
 "nbformat_minor": 2
}
