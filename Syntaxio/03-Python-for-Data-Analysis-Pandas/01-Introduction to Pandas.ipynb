{
 "cells": [
  {
   "cell_type": "markdown",
   "metadata": {},
   "source": [
    "___\n",
    "\n",
    "<a href='https://oxiane-institut.com/'> <img src='../oxiane.jpg' /></a>\\n\n",
    "___"
   ]
  },
  {
   "cell_type": "markdown",
   "metadata": {
    "collapsed": true,
    "jupyter": {
     "outputs_hidden": true
    }
   },
   "source": [
    "# Introduction à Pandas\r\n",
    "\r\n",
    "Dans cette section du cours, nous apprendrons à utiliser pandas pour l'analyse de données. Vous pouvez considérer pandas comme une version extrêmement puissante d'Excel, avec beaucoup plus de fonctionnalités. Dans cette section du cours, vous devriez parcourir les cahiers dans cet ordre :\r\n",
    "\r\n",
    "* Introduction à Pandas\r\n",
    "* Séries\r\n",
    "* DataFrames\r\n",
    "* Données manquantes\r\n",
    "* GroupBy\r\n",
    "* Fusionner, Joindre et Concaténer\r\n",
    "* Opérations\r\n",
    "* Entrée et sortie de données\r\n"
   ]
  },
  {
   "cell_type": "markdown",
   "metadata": {},
   "source": [
    "___"
   ]
  }
 ],
 "metadata": {
  "kernelspec": {
   "display_name": "Python 3 (ipykernel)",
   "language": "python",
   "name": "python3"
  },
  "language_info": {
   "codemirror_mode": {
    "name": "ipython",
    "version": 3
   },
   "file_extension": ".py",
   "mimetype": "text/x-python",
   "name": "python",
   "nbconvert_exporter": "python",
   "pygments_lexer": "ipython3",
   "version": "3.11.9"
  }
 },
 "nbformat": 4,
 "nbformat_minor": 4
}
